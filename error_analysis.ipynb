{
 "cells": [
  {
   "cell_type": "code",
   "execution_count": 5,
   "metadata": {},
   "outputs": [],
   "source": [
    "import matplotlib.pyplot as plt\n",
    "import numpy as np\n",
    "import jsonlines         \n",
    "import glob\n",
    "\n",
    "%matplotlib inline"
   ]
  },
  {
   "cell_type": "code",
   "execution_count": 6,
   "metadata": {},
   "outputs": [
    {
     "name": "stdout",
     "output_type": "stream",
     "text": [
      "/Users/deniz/natural_questions/data/nq-dev-00.jsonl\n",
      "/Users/deniz/natural_questions/data/nq-dev-01.jsonl\n",
      "/Users/deniz/natural_questions/data/nq-dev-02.jsonl\n",
      "/Users/deniz/natural_questions/data/nq-dev-03.jsonl\n",
      "/Users/deniz/natural_questions/data/nq-dev-04.jsonl\n"
     ]
    }
   ],
   "source": [
    "_dev_file_path = '/Users/deniz/natural_questions/data/nq-dev-*.jsonl'\n",
    "dev_files = glob.glob(_dev_file_path)\n",
    "dev_examples = []\n",
    "for _dev_file in dev_files:\n",
    "    print(_dev_file)\n",
    "    with jsonlines.open(_dev_file) as reader:\n",
    "        for i, example in enumerate(reader):\n",
    "            # pop ununsed keys\n",
    "            del example['document_html']\n",
    "            dev_examples.append(example)"
   ]
  },
  {
   "cell_type": "code",
   "execution_count": 7,
   "metadata": {},
   "outputs": [
    {
     "data": {
      "text/plain": [
       "7830"
      ]
     },
     "execution_count": 7,
     "metadata": {},
     "output_type": "execute_result"
    }
   ],
   "source": [
    "len(dev_examples)"
   ]
  },
  {
   "cell_type": "code",
   "execution_count": 8,
   "metadata": {},
   "outputs": [
    {
     "name": "stdout",
     "output_type": "stream",
     "text": [
      "/Users/deniz/natural_questions/data/nq-train-46.jsonl\n"
     ]
    }
   ],
   "source": [
    "_train_file_path = '/Users/deniz/natural_questions/data/nq-train-*.jsonl'\n",
    "train_files = glob.glob(_train_file_path)\n",
    "train_examples = []\n",
    "for _train_file in train_files:\n",
    "    print(_train_file)\n",
    "    with jsonlines.open(_train_file) as reader:\n",
    "        for i, example in enumerate(reader):\n",
    "            # pop ununsed keys\n",
    "            del example['document_html']\n",
    "            train_examples.append(example)"
   ]
  },
  {
   "cell_type": "code",
   "execution_count": 243,
   "metadata": {},
   "outputs": [
    {
     "data": {
      "text/plain": [
       "[{'annotation_id': 5465334731230772859,\n",
       "  'long_answer': {'candidate_index': -1,\n",
       "   'end_byte': -1,\n",
       "   'end_token': -1,\n",
       "   'start_byte': -1,\n",
       "   'start_token': -1},\n",
       "  'short_answers': [],\n",
       "  'yes_no_answer': 'NONE'}]"
      ]
     },
     "execution_count": 243,
     "metadata": {},
     "output_type": "execute_result"
    }
   ],
   "source": [
    "train_examples[0]['annotations']"
   ]
  },
  {
   "cell_type": "code",
   "execution_count": 9,
   "metadata": {},
   "outputs": [
    {
     "name": "stdout",
     "output_type": "stream",
     "text": [
      "495228\n",
      "the system output class balance: 0.48952745849297574\n"
     ]
    }
   ],
   "source": [
    "import json\n",
    "# predictions: span basis\n",
    "# post-processing takes the span answer with thihest score if there is one.\n",
    "# if all spans are null-answer, take that. \n",
    "_pred_file_path = '/Users/deniz/natural_questions/data/predictions/predictions.json'\n",
    "with open(_pred_file_path, \"r\") as read_file:\n",
    "    span_predictions = json.load(read_file)\n",
    "print(len(span_predictions))\n",
    "\n",
    "# predictions: doc basis\n",
    "import json\n",
    "_dev_file_path = '/Users/deniz/natural_questions/data/predictions/final_predictions.json'\n",
    "with open(_dev_file_path, \"r\") as read_file:\n",
    "    data = json.load(read_file)\n",
    "predictions = data['predictions']\n",
    "print(\"the system output class balance: {}\".format(len([p for p in predictions if not p['is_null_answer']])/len(predictions)))"
   ]
  },
  {
   "cell_type": "code",
   "execution_count": 174,
   "metadata": {},
   "outputs": [
    {
     "data": {
      "text/plain": [
       "{'end_byte': 0,\n",
       " 'example_id': -3290814144789249484,\n",
       " 'score': 21,\n",
       " 'start_byte': 0}"
      ]
     },
     "execution_count": 174,
     "metadata": {},
     "output_type": "execute_result"
    }
   ],
   "source": [
    "span_predictions[0]"
   ]
  },
  {
   "cell_type": "code",
   "execution_count": 10,
   "metadata": {},
   "outputs": [
    {
     "data": {
      "text/plain": [
       "0.11320644228516966"
      ]
     },
     "execution_count": 10,
     "metadata": {},
     "output_type": "execute_result"
    }
   ],
   "source": [
    "# only 11% of span predictions are non-null. \n",
    "# 85% precision, 60% recall.\n",
    "\n",
    "len([sp for sp in span_predictions if sp['end_byte'] > 0 and sp['start_byte'] > 0]) / len(span_predictions)"
   ]
  },
  {
   "cell_type": "code",
   "execution_count": 11,
   "metadata": {},
   "outputs": [],
   "source": [
    "def get_short_annotations(example, is_train=True):\n",
    "    \"\"\"\n",
    "    returns a list of annotations\n",
    "    \"\"\"\n",
    "    gold_answers = []\n",
    "    for annotation in example['annotations']: \n",
    "        if annotation['short_answers']:\n",
    "            gold_answers.append({\n",
    "              'end_byte': annotation['short_answers'][0]['end_byte'],\n",
    "              'start_token': annotation['short_answers'][0]['start_token'],\n",
    "              'end_token': annotation['short_answers'][0]['end_token'],\n",
    "              'start_byte': annotation['short_answers'][0]['start_byte']  ,          \n",
    "            })\n",
    "    if not is_train and len(gold_answers) < 2:\n",
    "        return None\n",
    "    else:\n",
    "        return gold_answers"
   ]
  },
  {
   "cell_type": "code",
   "execution_count": 12,
   "metadata": {},
   "outputs": [
    {
     "name": "stdout",
     "output_type": "stream",
     "text": [
      "nb gold answers: 7830\n",
      "nb train data answers: 6118\n"
     ]
    }
   ],
   "source": [
    "gold_answers_dict = {}\n",
    "length_of_the_dev_articles = {}\n",
    "train_answers_dict = {}\n",
    "length_of_the_train_articles = {}\n",
    "for dev_example in dev_examples:\n",
    "    length_of_the_dev_articles[dev_example['example_id']] = len(dev_example['document_tokens'])\n",
    "    gold_answers_dict[dev_example['example_id']] = get_short_annotations(dev_example, False)\n",
    "print(\"nb gold answers: {}\".format(len(gold_answers_dict)))\n",
    "for train_example in train_examples:\n",
    "    length_of_the_train_articles[train_example['example_id']] = len(train_example['document_tokens'])\n",
    "    train_answers_dict[train_example['example_id']] = get_short_annotations(train_example, True)\n",
    "print(\"nb train data answers: {}\".format(len(train_answers_dict)))"
   ]
  },
  {
   "cell_type": "markdown",
   "metadata": {},
   "source": [
    "#### Span Lengths"
   ]
  },
  {
   "cell_type": "code",
   "execution_count": 13,
   "metadata": {},
   "outputs": [],
   "source": [
    "import pandas as pd\n",
    "def get_sa(answers_dict, length_of_the_articles):\n",
    "    answers = list(answers_dict.values())\n",
    "    start_tokens, end_tokens, text_length = [], [], []\n",
    "    for example_id, answer_annotations in answers_dict.items():\n",
    "        if answer_annotations:\n",
    "            # take the first answer.\n",
    "            first_annotation = answer_annotations[0]\n",
    "            start_tokens.append(first_annotation['start_token'])\n",
    "            end_tokens.append(first_annotation['end_token'])\n",
    "            text_length.append(length_of_the_articles[example_id])\n",
    "    return pd.DataFrame({'start_tokens': start_tokens, 'end_tokens': end_tokens, 'text_length': text_length})"
   ]
  },
  {
   "cell_type": "code",
   "execution_count": 14,
   "metadata": {},
   "outputs": [],
   "source": [
    "train_answers_sa = get_sa(train_answers_dict, length_of_the_train_articles)\n",
    "dev_answers_sa = get_sa(gold_answers_dict, length_of_the_dev_articles)\n",
    "# print(\"nb gold answers with at least two answers: {}\".format(len(start_tokens)))\n",
    "# print(\"class balance in dev dataset: {}\".format(len(start_tokens)/ len(gold_answers_dict)))"
   ]
  },
  {
   "cell_type": "code",
   "execution_count": 15,
   "metadata": {},
   "outputs": [
    {
     "data": {
      "text/html": [
       "<div>\n",
       "<style>\n",
       "    .dataframe thead tr:only-child th {\n",
       "        text-align: right;\n",
       "    }\n",
       "\n",
       "    .dataframe thead th {\n",
       "        text-align: left;\n",
       "    }\n",
       "\n",
       "    .dataframe tbody tr th {\n",
       "        vertical-align: top;\n",
       "    }\n",
       "</style>\n",
       "<table border=\"1\" class=\"dataframe\">\n",
       "  <thead>\n",
       "    <tr style=\"text-align: right;\">\n",
       "      <th></th>\n",
       "      <th>end_tokens</th>\n",
       "      <th>start_tokens</th>\n",
       "      <th>text_length</th>\n",
       "    </tr>\n",
       "  </thead>\n",
       "  <tbody>\n",
       "    <tr>\n",
       "      <th>0</th>\n",
       "      <td>586</td>\n",
       "      <td>574</td>\n",
       "      <td>11899</td>\n",
       "    </tr>\n",
       "    <tr>\n",
       "      <th>1</th>\n",
       "      <td>789</td>\n",
       "      <td>788</td>\n",
       "      <td>18086</td>\n",
       "    </tr>\n",
       "    <tr>\n",
       "      <th>2</th>\n",
       "      <td>625</td>\n",
       "      <td>623</td>\n",
       "      <td>20885</td>\n",
       "    </tr>\n",
       "    <tr>\n",
       "      <th>3</th>\n",
       "      <td>336</td>\n",
       "      <td>334</td>\n",
       "      <td>4389</td>\n",
       "    </tr>\n",
       "    <tr>\n",
       "      <th>4</th>\n",
       "      <td>87</td>\n",
       "      <td>62</td>\n",
       "      <td>4075</td>\n",
       "    </tr>\n",
       "  </tbody>\n",
       "</table>\n",
       "</div>"
      ],
      "text/plain": [
       "   end_tokens  start_tokens  text_length\n",
       "0         586           574        11899\n",
       "1         789           788        18086\n",
       "2         625           623        20885\n",
       "3         336           334         4389\n",
       "4          87            62         4075"
      ]
     },
     "execution_count": 15,
     "metadata": {},
     "output_type": "execute_result"
    }
   ],
   "source": [
    "train_answers_sa.head()"
   ]
  },
  {
   "cell_type": "code",
   "execution_count": 16,
   "metadata": {},
   "outputs": [
    {
     "name": "stdout",
     "output_type": "stream",
     "text": [
      "class balance in train dataset: 0.3394900294213795\n",
      "class balance in dev dataset: 0.42605363984674327\n"
     ]
    }
   ],
   "source": [
    "# dev dataset needs at least 2 annotations out of 5. Still, dev have more answers. \n",
    "# 42% of documents in dev set has answers. THIS IS THE CLASS BALANCE OUT OF SAMPLE.\n",
    "# 34% of documents in train set has answers (this is only one file though)\n",
    "print(\"class balance in train dataset: {}\".format(len(train_answers_sa)/ len(train_answers_dict)))\n",
    "print(\"class balance in dev dataset: {}\".format(len(dev_answers_sa)/ len(gold_answers_dict)))"
   ]
  },
  {
   "cell_type": "code",
   "execution_count": 17,
   "metadata": {},
   "outputs": [],
   "source": [
    "###########\n",
    "## SPANS ##\n",
    "###########\n",
    "\n",
    "import pandas as pd\n",
    "# given text nb sub tokens > nb_tokens. Approximate that here. \n",
    "batch_answer_length = (384 - 64) * .7\n",
    "train_answers_sa['nb_spans'] = 1 + (train_answers_sa['text_length'] // batch_answer_length)\n",
    "train_answers_sa['start_token_span'] = 1 + (train_answers_sa['start_tokens'] // batch_answer_length)\n",
    "dev_answers_sa['nb_spans'] = 1 + (dev_answers_sa['text_length'] // batch_answer_length)\n",
    "dev_answers_sa['start_token_span'] = 1 + (dev_answers_sa['start_tokens'] // batch_answer_length)"
   ]
  },
  {
   "cell_type": "code",
   "execution_count": 18,
   "metadata": {},
   "outputs": [
    {
     "data": {
      "text/html": [
       "<div>\n",
       "<style>\n",
       "    .dataframe thead tr:only-child th {\n",
       "        text-align: right;\n",
       "    }\n",
       "\n",
       "    .dataframe thead th {\n",
       "        text-align: left;\n",
       "    }\n",
       "\n",
       "    .dataframe tbody tr th {\n",
       "        vertical-align: top;\n",
       "    }\n",
       "</style>\n",
       "<table border=\"1\" class=\"dataframe\">\n",
       "  <thead>\n",
       "    <tr style=\"text-align: right;\">\n",
       "      <th></th>\n",
       "      <th>end_tokens</th>\n",
       "      <th>start_tokens</th>\n",
       "      <th>text_length</th>\n",
       "      <th>nb_spans</th>\n",
       "      <th>start_token_span</th>\n",
       "    </tr>\n",
       "  </thead>\n",
       "  <tbody>\n",
       "    <tr>\n",
       "      <th>0</th>\n",
       "      <td>251</td>\n",
       "      <td>245</td>\n",
       "      <td>10875</td>\n",
       "      <td>49.0</td>\n",
       "      <td>2.0</td>\n",
       "    </tr>\n",
       "    <tr>\n",
       "      <th>1</th>\n",
       "      <td>535</td>\n",
       "      <td>531</td>\n",
       "      <td>11584</td>\n",
       "      <td>52.0</td>\n",
       "      <td>3.0</td>\n",
       "    </tr>\n",
       "    <tr>\n",
       "      <th>2</th>\n",
       "      <td>1040</td>\n",
       "      <td>1032</td>\n",
       "      <td>5067</td>\n",
       "      <td>23.0</td>\n",
       "      <td>5.0</td>\n",
       "    </tr>\n",
       "    <tr>\n",
       "      <th>3</th>\n",
       "      <td>92</td>\n",
       "      <td>90</td>\n",
       "      <td>11376</td>\n",
       "      <td>51.0</td>\n",
       "      <td>1.0</td>\n",
       "    </tr>\n",
       "    <tr>\n",
       "      <th>4</th>\n",
       "      <td>6177</td>\n",
       "      <td>6173</td>\n",
       "      <td>14564</td>\n",
       "      <td>66.0</td>\n",
       "      <td>28.0</td>\n",
       "    </tr>\n",
       "    <tr>\n",
       "      <th>5</th>\n",
       "      <td>664</td>\n",
       "      <td>660</td>\n",
       "      <td>23899</td>\n",
       "      <td>107.0</td>\n",
       "      <td>3.0</td>\n",
       "    </tr>\n",
       "    <tr>\n",
       "      <th>6</th>\n",
       "      <td>98</td>\n",
       "      <td>96</td>\n",
       "      <td>16385</td>\n",
       "      <td>74.0</td>\n",
       "      <td>1.0</td>\n",
       "    </tr>\n",
       "    <tr>\n",
       "      <th>7</th>\n",
       "      <td>30</td>\n",
       "      <td>27</td>\n",
       "      <td>7192</td>\n",
       "      <td>33.0</td>\n",
       "      <td>1.0</td>\n",
       "    </tr>\n",
       "    <tr>\n",
       "      <th>8</th>\n",
       "      <td>195</td>\n",
       "      <td>194</td>\n",
       "      <td>32907</td>\n",
       "      <td>147.0</td>\n",
       "      <td>1.0</td>\n",
       "    </tr>\n",
       "    <tr>\n",
       "      <th>9</th>\n",
       "      <td>709</td>\n",
       "      <td>700</td>\n",
       "      <td>2514</td>\n",
       "      <td>12.0</td>\n",
       "      <td>4.0</td>\n",
       "    </tr>\n",
       "    <tr>\n",
       "      <th>10</th>\n",
       "      <td>1275</td>\n",
       "      <td>1270</td>\n",
       "      <td>9328</td>\n",
       "      <td>42.0</td>\n",
       "      <td>6.0</td>\n",
       "    </tr>\n",
       "    <tr>\n",
       "      <th>11</th>\n",
       "      <td>402</td>\n",
       "      <td>400</td>\n",
       "      <td>10417</td>\n",
       "      <td>47.0</td>\n",
       "      <td>2.0</td>\n",
       "    </tr>\n",
       "    <tr>\n",
       "      <th>12</th>\n",
       "      <td>202</td>\n",
       "      <td>199</td>\n",
       "      <td>6014</td>\n",
       "      <td>27.0</td>\n",
       "      <td>1.0</td>\n",
       "    </tr>\n",
       "    <tr>\n",
       "      <th>13</th>\n",
       "      <td>73</td>\n",
       "      <td>71</td>\n",
       "      <td>1223</td>\n",
       "      <td>6.0</td>\n",
       "      <td>1.0</td>\n",
       "    </tr>\n",
       "    <tr>\n",
       "      <th>14</th>\n",
       "      <td>2970</td>\n",
       "      <td>2968</td>\n",
       "      <td>5535</td>\n",
       "      <td>25.0</td>\n",
       "      <td>14.0</td>\n",
       "    </tr>\n",
       "    <tr>\n",
       "      <th>15</th>\n",
       "      <td>6975</td>\n",
       "      <td>6974</td>\n",
       "      <td>18270</td>\n",
       "      <td>82.0</td>\n",
       "      <td>32.0</td>\n",
       "    </tr>\n",
       "    <tr>\n",
       "      <th>16</th>\n",
       "      <td>6865</td>\n",
       "      <td>6863</td>\n",
       "      <td>9118</td>\n",
       "      <td>41.0</td>\n",
       "      <td>31.0</td>\n",
       "    </tr>\n",
       "    <tr>\n",
       "      <th>17</th>\n",
       "      <td>1185</td>\n",
       "      <td>1183</td>\n",
       "      <td>20017</td>\n",
       "      <td>90.0</td>\n",
       "      <td>6.0</td>\n",
       "    </tr>\n",
       "    <tr>\n",
       "      <th>18</th>\n",
       "      <td>242</td>\n",
       "      <td>239</td>\n",
       "      <td>2349</td>\n",
       "      <td>11.0</td>\n",
       "      <td>2.0</td>\n",
       "    </tr>\n",
       "    <tr>\n",
       "      <th>19</th>\n",
       "      <td>818</td>\n",
       "      <td>817</td>\n",
       "      <td>4399</td>\n",
       "      <td>20.0</td>\n",
       "      <td>4.0</td>\n",
       "    </tr>\n",
       "    <tr>\n",
       "      <th>20</th>\n",
       "      <td>1160</td>\n",
       "      <td>1149</td>\n",
       "      <td>6928</td>\n",
       "      <td>31.0</td>\n",
       "      <td>6.0</td>\n",
       "    </tr>\n",
       "    <tr>\n",
       "      <th>21</th>\n",
       "      <td>1521</td>\n",
       "      <td>1520</td>\n",
       "      <td>10317</td>\n",
       "      <td>47.0</td>\n",
       "      <td>7.0</td>\n",
       "    </tr>\n",
       "    <tr>\n",
       "      <th>22</th>\n",
       "      <td>922</td>\n",
       "      <td>900</td>\n",
       "      <td>2542</td>\n",
       "      <td>12.0</td>\n",
       "      <td>5.0</td>\n",
       "    </tr>\n",
       "    <tr>\n",
       "      <th>23</th>\n",
       "      <td>20</td>\n",
       "      <td>19</td>\n",
       "      <td>13198</td>\n",
       "      <td>59.0</td>\n",
       "      <td>1.0</td>\n",
       "    </tr>\n",
       "    <tr>\n",
       "      <th>24</th>\n",
       "      <td>538</td>\n",
       "      <td>537</td>\n",
       "      <td>6941</td>\n",
       "      <td>31.0</td>\n",
       "      <td>3.0</td>\n",
       "    </tr>\n",
       "    <tr>\n",
       "      <th>25</th>\n",
       "      <td>69</td>\n",
       "      <td>68</td>\n",
       "      <td>14639</td>\n",
       "      <td>66.0</td>\n",
       "      <td>1.0</td>\n",
       "    </tr>\n",
       "    <tr>\n",
       "      <th>26</th>\n",
       "      <td>688</td>\n",
       "      <td>685</td>\n",
       "      <td>16214</td>\n",
       "      <td>73.0</td>\n",
       "      <td>4.0</td>\n",
       "    </tr>\n",
       "    <tr>\n",
       "      <th>27</th>\n",
       "      <td>98</td>\n",
       "      <td>89</td>\n",
       "      <td>890</td>\n",
       "      <td>4.0</td>\n",
       "      <td>1.0</td>\n",
       "    </tr>\n",
       "    <tr>\n",
       "      <th>28</th>\n",
       "      <td>266</td>\n",
       "      <td>264</td>\n",
       "      <td>22734</td>\n",
       "      <td>102.0</td>\n",
       "      <td>2.0</td>\n",
       "    </tr>\n",
       "    <tr>\n",
       "      <th>29</th>\n",
       "      <td>1436</td>\n",
       "      <td>1434</td>\n",
       "      <td>2859</td>\n",
       "      <td>13.0</td>\n",
       "      <td>7.0</td>\n",
       "    </tr>\n",
       "  </tbody>\n",
       "</table>\n",
       "</div>"
      ],
      "text/plain": [
       "    end_tokens  start_tokens  text_length  nb_spans  start_token_span\n",
       "0          251           245        10875      49.0               2.0\n",
       "1          535           531        11584      52.0               3.0\n",
       "2         1040          1032         5067      23.0               5.0\n",
       "3           92            90        11376      51.0               1.0\n",
       "4         6177          6173        14564      66.0              28.0\n",
       "5          664           660        23899     107.0               3.0\n",
       "6           98            96        16385      74.0               1.0\n",
       "7           30            27         7192      33.0               1.0\n",
       "8          195           194        32907     147.0               1.0\n",
       "9          709           700         2514      12.0               4.0\n",
       "10        1275          1270         9328      42.0               6.0\n",
       "11         402           400        10417      47.0               2.0\n",
       "12         202           199         6014      27.0               1.0\n",
       "13          73            71         1223       6.0               1.0\n",
       "14        2970          2968         5535      25.0              14.0\n",
       "15        6975          6974        18270      82.0              32.0\n",
       "16        6865          6863         9118      41.0              31.0\n",
       "17        1185          1183        20017      90.0               6.0\n",
       "18         242           239         2349      11.0               2.0\n",
       "19         818           817         4399      20.0               4.0\n",
       "20        1160          1149         6928      31.0               6.0\n",
       "21        1521          1520        10317      47.0               7.0\n",
       "22         922           900         2542      12.0               5.0\n",
       "23          20            19        13198      59.0               1.0\n",
       "24         538           537         6941      31.0               3.0\n",
       "25          69            68        14639      66.0               1.0\n",
       "26         688           685        16214      73.0               4.0\n",
       "27          98            89          890       4.0               1.0\n",
       "28         266           264        22734     102.0               2.0\n",
       "29        1436          1434         2859      13.0               7.0"
      ]
     },
     "execution_count": 18,
     "metadata": {},
     "output_type": "execute_result"
    }
   ],
   "source": [
    "dev_answers_sa.head(30)"
   ]
  },
  {
   "cell_type": "code",
   "execution_count": 19,
   "metadata": {},
   "outputs": [],
   "source": [
    "# span in which answers lie\n",
    "train_answers_spans = train_answers_sa.groupby(['start_token_span']).size()\n",
    "dev_answers_spans = dev_answers_sa.groupby(['start_token_span']).size()"
   ]
  },
  {
   "cell_type": "code",
   "execution_count": 20,
   "metadata": {},
   "outputs": [
    {
     "data": {
      "text/html": [
       "<div>\n",
       "<style>\n",
       "    .dataframe thead tr:only-child th {\n",
       "        text-align: right;\n",
       "    }\n",
       "\n",
       "    .dataframe thead th {\n",
       "        text-align: left;\n",
       "    }\n",
       "\n",
       "    .dataframe tbody tr th {\n",
       "        vertical-align: top;\n",
       "    }\n",
       "</style>\n",
       "<table border=\"1\" class=\"dataframe\">\n",
       "  <thead>\n",
       "    <tr style=\"text-align: right;\">\n",
       "      <th></th>\n",
       "      <th>train_nb_spans</th>\n",
       "      <th>train_cum_perc_answers</th>\n",
       "      <th>train_cum_perc_examples</th>\n",
       "      <th>dev_nb_spans</th>\n",
       "      <th>dev_cum_perc_answers</th>\n",
       "      <th>dev_cum_perc_examples</th>\n",
       "    </tr>\n",
       "    <tr>\n",
       "      <th>start_token_span</th>\n",
       "      <th></th>\n",
       "      <th></th>\n",
       "      <th></th>\n",
       "      <th></th>\n",
       "      <th></th>\n",
       "      <th></th>\n",
       "    </tr>\n",
       "  </thead>\n",
       "  <tbody>\n",
       "    <tr>\n",
       "      <th>1.0</th>\n",
       "      <td>620.0</td>\n",
       "      <td>0.298507</td>\n",
       "      <td>0.101340</td>\n",
       "      <td>995.0</td>\n",
       "      <td>0.298261</td>\n",
       "      <td>0.127075</td>\n",
       "    </tr>\n",
       "    <tr>\n",
       "      <th>2.0</th>\n",
       "      <td>493.0</td>\n",
       "      <td>0.535869</td>\n",
       "      <td>0.181922</td>\n",
       "      <td>735.0</td>\n",
       "      <td>0.518585</td>\n",
       "      <td>0.220945</td>\n",
       "    </tr>\n",
       "    <tr>\n",
       "      <th>3.0</th>\n",
       "      <td>225.0</td>\n",
       "      <td>0.644198</td>\n",
       "      <td>0.218699</td>\n",
       "      <td>370.0</td>\n",
       "      <td>0.629496</td>\n",
       "      <td>0.268199</td>\n",
       "    </tr>\n",
       "    <tr>\n",
       "      <th>4.0</th>\n",
       "      <td>119.0</td>\n",
       "      <td>0.701493</td>\n",
       "      <td>0.238150</td>\n",
       "      <td>204.0</td>\n",
       "      <td>0.690647</td>\n",
       "      <td>0.294253</td>\n",
       "    </tr>\n",
       "    <tr>\n",
       "      <th>5.0</th>\n",
       "      <td>101.0</td>\n",
       "      <td>0.750120</td>\n",
       "      <td>0.254658</td>\n",
       "      <td>151.0</td>\n",
       "      <td>0.735911</td>\n",
       "      <td>0.313538</td>\n",
       "    </tr>\n",
       "    <tr>\n",
       "      <th>6.0</th>\n",
       "      <td>77.0</td>\n",
       "      <td>0.787193</td>\n",
       "      <td>0.267244</td>\n",
       "      <td>111.0</td>\n",
       "      <td>0.769185</td>\n",
       "      <td>0.327714</td>\n",
       "    </tr>\n",
       "    <tr>\n",
       "      <th>7.0</th>\n",
       "      <td>72.0</td>\n",
       "      <td>0.821858</td>\n",
       "      <td>0.279013</td>\n",
       "      <td>122.0</td>\n",
       "      <td>0.805755</td>\n",
       "      <td>0.343295</td>\n",
       "    </tr>\n",
       "    <tr>\n",
       "      <th>8.0</th>\n",
       "      <td>53.0</td>\n",
       "      <td>0.847376</td>\n",
       "      <td>0.287676</td>\n",
       "      <td>81.0</td>\n",
       "      <td>0.830036</td>\n",
       "      <td>0.353640</td>\n",
       "    </tr>\n",
       "    <tr>\n",
       "      <th>9.0</th>\n",
       "      <td>39.0</td>\n",
       "      <td>0.866153</td>\n",
       "      <td>0.294050</td>\n",
       "      <td>54.0</td>\n",
       "      <td>0.846223</td>\n",
       "      <td>0.360536</td>\n",
       "    </tr>\n",
       "    <tr>\n",
       "      <th>10.0</th>\n",
       "      <td>30.0</td>\n",
       "      <td>0.880597</td>\n",
       "      <td>0.298954</td>\n",
       "      <td>50.0</td>\n",
       "      <td>0.861211</td>\n",
       "      <td>0.366922</td>\n",
       "    </tr>\n",
       "    <tr>\n",
       "      <th>11.0</th>\n",
       "      <td>23.0</td>\n",
       "      <td>0.891671</td>\n",
       "      <td>0.302713</td>\n",
       "      <td>42.0</td>\n",
       "      <td>0.873801</td>\n",
       "      <td>0.372286</td>\n",
       "    </tr>\n",
       "    <tr>\n",
       "      <th>12.0</th>\n",
       "      <td>18.0</td>\n",
       "      <td>0.900337</td>\n",
       "      <td>0.305655</td>\n",
       "      <td>47.0</td>\n",
       "      <td>0.887890</td>\n",
       "      <td>0.378289</td>\n",
       "    </tr>\n",
       "    <tr>\n",
       "      <th>13.0</th>\n",
       "      <td>19.0</td>\n",
       "      <td>0.909485</td>\n",
       "      <td>0.308761</td>\n",
       "      <td>23.0</td>\n",
       "      <td>0.894784</td>\n",
       "      <td>0.381226</td>\n",
       "    </tr>\n",
       "    <tr>\n",
       "      <th>14.0</th>\n",
       "      <td>15.0</td>\n",
       "      <td>0.916707</td>\n",
       "      <td>0.311213</td>\n",
       "      <td>26.0</td>\n",
       "      <td>0.902578</td>\n",
       "      <td>0.384547</td>\n",
       "    </tr>\n",
       "    <tr>\n",
       "      <th>15.0</th>\n",
       "      <td>11.0</td>\n",
       "      <td>0.922003</td>\n",
       "      <td>0.313011</td>\n",
       "      <td>29.0</td>\n",
       "      <td>0.911271</td>\n",
       "      <td>0.388250</td>\n",
       "    </tr>\n",
       "    <tr>\n",
       "      <th>16.0</th>\n",
       "      <td>15.0</td>\n",
       "      <td>0.929225</td>\n",
       "      <td>0.315463</td>\n",
       "      <td>26.0</td>\n",
       "      <td>0.919065</td>\n",
       "      <td>0.391571</td>\n",
       "    </tr>\n",
       "    <tr>\n",
       "      <th>17.0</th>\n",
       "      <td>8.0</td>\n",
       "      <td>0.933077</td>\n",
       "      <td>0.316770</td>\n",
       "      <td>22.0</td>\n",
       "      <td>0.925659</td>\n",
       "      <td>0.394381</td>\n",
       "    </tr>\n",
       "    <tr>\n",
       "      <th>18.0</th>\n",
       "      <td>12.0</td>\n",
       "      <td>0.938854</td>\n",
       "      <td>0.318732</td>\n",
       "      <td>22.0</td>\n",
       "      <td>0.932254</td>\n",
       "      <td>0.397190</td>\n",
       "    </tr>\n",
       "    <tr>\n",
       "      <th>19.0</th>\n",
       "      <td>8.0</td>\n",
       "      <td>0.942706</td>\n",
       "      <td>0.320039</td>\n",
       "      <td>25.0</td>\n",
       "      <td>0.939748</td>\n",
       "      <td>0.400383</td>\n",
       "    </tr>\n",
       "    <tr>\n",
       "      <th>20.0</th>\n",
       "      <td>7.0</td>\n",
       "      <td>0.946076</td>\n",
       "      <td>0.321183</td>\n",
       "      <td>16.0</td>\n",
       "      <td>0.944544</td>\n",
       "      <td>0.402427</td>\n",
       "    </tr>\n",
       "  </tbody>\n",
       "</table>\n",
       "</div>"
      ],
      "text/plain": [
       "                  train_nb_spans  train_cum_perc_answers  \\\n",
       "start_token_span                                           \n",
       "1.0                        620.0                0.298507   \n",
       "2.0                        493.0                0.535869   \n",
       "3.0                        225.0                0.644198   \n",
       "4.0                        119.0                0.701493   \n",
       "5.0                        101.0                0.750120   \n",
       "6.0                         77.0                0.787193   \n",
       "7.0                         72.0                0.821858   \n",
       "8.0                         53.0                0.847376   \n",
       "9.0                         39.0                0.866153   \n",
       "10.0                        30.0                0.880597   \n",
       "11.0                        23.0                0.891671   \n",
       "12.0                        18.0                0.900337   \n",
       "13.0                        19.0                0.909485   \n",
       "14.0                        15.0                0.916707   \n",
       "15.0                        11.0                0.922003   \n",
       "16.0                        15.0                0.929225   \n",
       "17.0                         8.0                0.933077   \n",
       "18.0                        12.0                0.938854   \n",
       "19.0                         8.0                0.942706   \n",
       "20.0                         7.0                0.946076   \n",
       "\n",
       "                  train_cum_perc_examples  dev_nb_spans  dev_cum_perc_answers  \\\n",
       "start_token_span                                                                \n",
       "1.0                              0.101340         995.0              0.298261   \n",
       "2.0                              0.181922         735.0              0.518585   \n",
       "3.0                              0.218699         370.0              0.629496   \n",
       "4.0                              0.238150         204.0              0.690647   \n",
       "5.0                              0.254658         151.0              0.735911   \n",
       "6.0                              0.267244         111.0              0.769185   \n",
       "7.0                              0.279013         122.0              0.805755   \n",
       "8.0                              0.287676          81.0              0.830036   \n",
       "9.0                              0.294050          54.0              0.846223   \n",
       "10.0                             0.298954          50.0              0.861211   \n",
       "11.0                             0.302713          42.0              0.873801   \n",
       "12.0                             0.305655          47.0              0.887890   \n",
       "13.0                             0.308761          23.0              0.894784   \n",
       "14.0                             0.311213          26.0              0.902578   \n",
       "15.0                             0.313011          29.0              0.911271   \n",
       "16.0                             0.315463          26.0              0.919065   \n",
       "17.0                             0.316770          22.0              0.925659   \n",
       "18.0                             0.318732          22.0              0.932254   \n",
       "19.0                             0.320039          25.0              0.939748   \n",
       "20.0                             0.321183          16.0              0.944544   \n",
       "\n",
       "                  dev_cum_perc_examples  \n",
       "start_token_span                         \n",
       "1.0                            0.127075  \n",
       "2.0                            0.220945  \n",
       "3.0                            0.268199  \n",
       "4.0                            0.294253  \n",
       "5.0                            0.313538  \n",
       "6.0                            0.327714  \n",
       "7.0                            0.343295  \n",
       "8.0                            0.353640  \n",
       "9.0                            0.360536  \n",
       "10.0                           0.366922  \n",
       "11.0                           0.372286  \n",
       "12.0                           0.378289  \n",
       "13.0                           0.381226  \n",
       "14.0                           0.384547  \n",
       "15.0                           0.388250  \n",
       "16.0                           0.391571  \n",
       "17.0                           0.394381  \n",
       "18.0                           0.397190  \n",
       "19.0                           0.400383  \n",
       "20.0                           0.402427  "
      ]
     },
     "execution_count": 20,
     "metadata": {},
     "output_type": "execute_result"
    }
   ],
   "source": [
    "span_stats = pd.concat([train_answers_spans, \n",
    "           (train_answers_spans / train_answers_spans.sum()).cumsum(), \n",
    "           (train_answers_spans/len(train_answers_dict)).cumsum(),\n",
    "           dev_answers_spans, \n",
    "           (dev_answers_spans / dev_answers_spans.sum()).cumsum(), \n",
    "           (dev_answers_spans/len(gold_answers_dict)).cumsum()],axis=1,\n",
    "         ).fillna(0).head(20)\n",
    "span_stats.columns = ['train_nb_spans','train_cum_perc_answers','train_cum_perc_examples',\n",
    "                     'dev_nb_spans','dev_cum_perc_answers','dev_cum_perc_examples',]\n",
    "span_stats"
   ]
  },
  {
   "cell_type": "code",
   "execution_count": 21,
   "metadata": {},
   "outputs": [
    {
     "data": {
      "text/plain": [
       "<matplotlib.axes._subplots.AxesSubplot at 0xbbb6da710>"
      ]
     },
     "execution_count": 21,
     "metadata": {},
     "output_type": "execute_result"
    },
    {
     "data": {
      "image/png": "[encoded data removed]",
      "text/plain": [
       "<matplotlib.figure.Figure at 0xbb9aa3cc0>"
      ]
     },
     "metadata": {},
     "output_type": "display_data"
    }
   ],
   "source": [
    "# observation -> 90% of answers are within ~14 spans.\n",
    "# sampling from the first set of spans should also provide harder adverserial null answers.\n",
    "# also: do not process the entire doc in dev. this would increase the false positive rate. \n",
    "span_stats[['train_cum_perc_answers','dev_cum_perc_answers']].plot(kind='barh')"
   ]
  },
  {
   "cell_type": "code",
   "execution_count": 33,
   "metadata": {},
   "outputs": [
    {
     "data": {
      "text/html": [
       "<div>\n",
       "<style>\n",
       "    .dataframe thead tr:only-child th {\n",
       "        text-align: right;\n",
       "    }\n",
       "\n",
       "    .dataframe thead th {\n",
       "        text-align: left;\n",
       "    }\n",
       "\n",
       "    .dataframe tbody tr th {\n",
       "        vertical-align: top;\n",
       "    }\n",
       "</style>\n",
       "<table border=\"1\" class=\"dataframe\">\n",
       "  <thead>\n",
       "    <tr style=\"text-align: right;\">\n",
       "      <th></th>\n",
       "      <th>0</th>\n",
       "    </tr>\n",
       "  </thead>\n",
       "  <tbody>\n",
       "    <tr>\n",
       "      <th>count</th>\n",
       "      <td>6118.000000</td>\n",
       "    </tr>\n",
       "    <tr>\n",
       "      <th>mean</th>\n",
       "      <td>40.557567</td>\n",
       "    </tr>\n",
       "    <tr>\n",
       "      <th>std</th>\n",
       "      <td>37.631825</td>\n",
       "    </tr>\n",
       "    <tr>\n",
       "      <th>min</th>\n",
       "      <td>1.352679</td>\n",
       "    </tr>\n",
       "    <tr>\n",
       "      <th>25%</th>\n",
       "      <td>14.504464</td>\n",
       "    </tr>\n",
       "    <tr>\n",
       "      <th>50%</th>\n",
       "      <td>28.042411</td>\n",
       "    </tr>\n",
       "    <tr>\n",
       "      <th>75%</th>\n",
       "      <td>54.881696</td>\n",
       "    </tr>\n",
       "    <tr>\n",
       "      <th>max</th>\n",
       "      <td>361.566964</td>\n",
       "    </tr>\n",
       "  </tbody>\n",
       "</table>\n",
       "</div>"
      ],
      "text/plain": [
       "                 0\n",
       "count  6118.000000\n",
       "mean     40.557567\n",
       "std      37.631825\n",
       "min       1.352679\n",
       "25%      14.504464\n",
       "50%      28.042411\n",
       "75%      54.881696\n",
       "max     361.566964"
      ]
     },
     "execution_count": 33,
     "metadata": {},
     "output_type": "execute_result"
    }
   ],
   "source": [
    "# average nb of spans for each doc in dev\n",
    "span_length = pd.DataFrame(np.array(list(length_of_the_train_articles.values()))/ batch_answer_length)\n",
    "span_length.describe()"
   ]
  },
  {
   "cell_type": "code",
   "execution_count": 34,
   "metadata": {},
   "outputs": [
    {
     "data": {
      "text/plain": [
       "<matplotlib.axes._subplots.AxesSubplot at 0xbbd85ad30>"
      ]
     },
     "execution_count": 34,
     "metadata": {},
     "output_type": "execute_result"
    },
    {
     "data": {
      "image/png": "[encoded data removed]",
      "text/plain": [
       "<matplotlib.figure.Figure at 0xbbd97ee48>"
      ]
     },
     "metadata": {},
     "output_type": "display_data"
    }
   ],
   "source": [
    "span_length.plot.hist(bins=100)"
   ]
  },
  {
   "cell_type": "code",
   "execution_count": 210,
   "metadata": {},
   "outputs": [],
   "source": [
    "## answer span distribution. \n",
    "prediction_span_distribution = {}\n",
    "for prediction in predictions:\n",
    "    if prediction['short_answers'][0]['start_byte'] > 1:\n",
    "        short_answer = prediction['short_answers'][0] # single answer\n",
    "        document_tokens = [e for e in dev_examples if e['example_id'] == prediction['example_id']][0]['document_tokens']\n",
    "        for i, t in enumerate(document_tokens):\n",
    "            if t['start_byte'] >= short_answer['start_byte'] and t['end_byte'] <= short_answer['end_byte']:\n",
    "                prediction_span_distribution[prediction['example_id']] = i\n",
    "                break"
   ]
  },
  {
   "cell_type": "code",
   "execution_count": 229,
   "metadata": {},
   "outputs": [
    {
     "data": {
      "text/plain": [
       "<matplotlib.axes._subplots.AxesSubplot at 0xbbec03b70>"
      ]
     },
     "execution_count": 229,
     "metadata": {},
     "output_type": "execute_result"
    },
    {
     "data": {
      "image/png": "[encoded data removed]",
      "text/plain": [
       "<matplotlib.figure.Figure at 0xbbec14198>"
      ]
     },
     "metadata": {},
     "output_type": "display_data"
    }
   ],
   "source": [
    "answer_spans = pd.DataFrame(1+np.array(list(prediction_span_distribution.values())) // batch_answer_length, columns=['start_token_answer_span'])\n",
    "answer_spans = answer_spans.groupby(['start_token_answer_span']).size()\n",
    "answer_span_stats = pd.concat([\n",
    "           answer_spans, \n",
    "           (answer_spans / answer_spans.sum()).cumsum(), \n",
    "           (answer_spans/len(predictions)).cumsum()],axis=1,\n",
    "         ).fillna(0).head(20)\n",
    "answer_span_stats.columns = ['train_nb_spans','train_cum_perc_answers','train_cum_perc_examples']\n",
    "answer_span_stats[['train_cum_perc_answers']].plot(kind='barh')"
   ]
  },
  {
   "cell_type": "code",
   "execution_count": 230,
   "metadata": {},
   "outputs": [
    {
     "data": {
      "text/html": [
       "<div>\n",
       "<style>\n",
       "    .dataframe thead tr:only-child th {\n",
       "        text-align: right;\n",
       "    }\n",
       "\n",
       "    .dataframe thead th {\n",
       "        text-align: left;\n",
       "    }\n",
       "\n",
       "    .dataframe tbody tr th {\n",
       "        vertical-align: top;\n",
       "    }\n",
       "</style>\n",
       "<table border=\"1\" class=\"dataframe\">\n",
       "  <thead>\n",
       "    <tr style=\"text-align: right;\">\n",
       "      <th></th>\n",
       "      <th>train_nb_spans</th>\n",
       "      <th>train_cum_perc_answers</th>\n",
       "      <th>train_cum_perc_examples</th>\n",
       "    </tr>\n",
       "    <tr>\n",
       "      <th>start_token_answer_span</th>\n",
       "      <th></th>\n",
       "      <th></th>\n",
       "      <th></th>\n",
       "    </tr>\n",
       "  </thead>\n",
       "  <tbody>\n",
       "    <tr>\n",
       "      <th>1.0</th>\n",
       "      <td>696</td>\n",
       "      <td>0.181581</td>\n",
       "      <td>0.088889</td>\n",
       "    </tr>\n",
       "    <tr>\n",
       "      <th>2.0</th>\n",
       "      <td>741</td>\n",
       "      <td>0.374902</td>\n",
       "      <td>0.183525</td>\n",
       "    </tr>\n",
       "    <tr>\n",
       "      <th>3.0</th>\n",
       "      <td>403</td>\n",
       "      <td>0.480042</td>\n",
       "      <td>0.234994</td>\n",
       "    </tr>\n",
       "    <tr>\n",
       "      <th>4.0</th>\n",
       "      <td>228</td>\n",
       "      <td>0.539525</td>\n",
       "      <td>0.264112</td>\n",
       "    </tr>\n",
       "    <tr>\n",
       "      <th>5.0</th>\n",
       "      <td>199</td>\n",
       "      <td>0.591443</td>\n",
       "      <td>0.289527</td>\n",
       "    </tr>\n",
       "    <tr>\n",
       "      <th>6.0</th>\n",
       "      <td>161</td>\n",
       "      <td>0.633446</td>\n",
       "      <td>0.310089</td>\n",
       "    </tr>\n",
       "    <tr>\n",
       "      <th>7.0</th>\n",
       "      <td>151</td>\n",
       "      <td>0.672841</td>\n",
       "      <td>0.329374</td>\n",
       "    </tr>\n",
       "    <tr>\n",
       "      <th>8.0</th>\n",
       "      <td>138</td>\n",
       "      <td>0.708844</td>\n",
       "      <td>0.346999</td>\n",
       "    </tr>\n",
       "    <tr>\n",
       "      <th>9.0</th>\n",
       "      <td>91</td>\n",
       "      <td>0.732585</td>\n",
       "      <td>0.358621</td>\n",
       "    </tr>\n",
       "    <tr>\n",
       "      <th>10.0</th>\n",
       "      <td>84</td>\n",
       "      <td>0.754500</td>\n",
       "      <td>0.369349</td>\n",
       "    </tr>\n",
       "    <tr>\n",
       "      <th>11.0</th>\n",
       "      <td>67</td>\n",
       "      <td>0.771980</td>\n",
       "      <td>0.377905</td>\n",
       "    </tr>\n",
       "    <tr>\n",
       "      <th>12.0</th>\n",
       "      <td>53</td>\n",
       "      <td>0.785807</td>\n",
       "      <td>0.384674</td>\n",
       "    </tr>\n",
       "    <tr>\n",
       "      <th>13.0</th>\n",
       "      <td>61</td>\n",
       "      <td>0.801722</td>\n",
       "      <td>0.392465</td>\n",
       "    </tr>\n",
       "    <tr>\n",
       "      <th>14.0</th>\n",
       "      <td>62</td>\n",
       "      <td>0.817897</td>\n",
       "      <td>0.400383</td>\n",
       "    </tr>\n",
       "    <tr>\n",
       "      <th>15.0</th>\n",
       "      <td>53</td>\n",
       "      <td>0.831724</td>\n",
       "      <td>0.407152</td>\n",
       "    </tr>\n",
       "    <tr>\n",
       "      <th>16.0</th>\n",
       "      <td>43</td>\n",
       "      <td>0.842943</td>\n",
       "      <td>0.412644</td>\n",
       "    </tr>\n",
       "    <tr>\n",
       "      <th>17.0</th>\n",
       "      <td>38</td>\n",
       "      <td>0.852857</td>\n",
       "      <td>0.417497</td>\n",
       "    </tr>\n",
       "    <tr>\n",
       "      <th>18.0</th>\n",
       "      <td>32</td>\n",
       "      <td>0.861205</td>\n",
       "      <td>0.421584</td>\n",
       "    </tr>\n",
       "    <tr>\n",
       "      <th>19.0</th>\n",
       "      <td>40</td>\n",
       "      <td>0.871641</td>\n",
       "      <td>0.426692</td>\n",
       "    </tr>\n",
       "    <tr>\n",
       "      <th>20.0</th>\n",
       "      <td>33</td>\n",
       "      <td>0.880250</td>\n",
       "      <td>0.430907</td>\n",
       "    </tr>\n",
       "  </tbody>\n",
       "</table>\n",
       "</div>"
      ],
      "text/plain": [
       "                         train_nb_spans  train_cum_perc_answers  \\\n",
       "start_token_answer_span                                           \n",
       "1.0                                 696                0.181581   \n",
       "2.0                                 741                0.374902   \n",
       "3.0                                 403                0.480042   \n",
       "4.0                                 228                0.539525   \n",
       "5.0                                 199                0.591443   \n",
       "6.0                                 161                0.633446   \n",
       "7.0                                 151                0.672841   \n",
       "8.0                                 138                0.708844   \n",
       "9.0                                  91                0.732585   \n",
       "10.0                                 84                0.754500   \n",
       "11.0                                 67                0.771980   \n",
       "12.0                                 53                0.785807   \n",
       "13.0                                 61                0.801722   \n",
       "14.0                                 62                0.817897   \n",
       "15.0                                 53                0.831724   \n",
       "16.0                                 43                0.842943   \n",
       "17.0                                 38                0.852857   \n",
       "18.0                                 32                0.861205   \n",
       "19.0                                 40                0.871641   \n",
       "20.0                                 33                0.880250   \n",
       "\n",
       "                         train_cum_perc_examples  \n",
       "start_token_answer_span                           \n",
       "1.0                                     0.088889  \n",
       "2.0                                     0.183525  \n",
       "3.0                                     0.234994  \n",
       "4.0                                     0.264112  \n",
       "5.0                                     0.289527  \n",
       "6.0                                     0.310089  \n",
       "7.0                                     0.329374  \n",
       "8.0                                     0.346999  \n",
       "9.0                                     0.358621  \n",
       "10.0                                    0.369349  \n",
       "11.0                                    0.377905  \n",
       "12.0                                    0.384674  \n",
       "13.0                                    0.392465  \n",
       "14.0                                    0.400383  \n",
       "15.0                                    0.407152  \n",
       "16.0                                    0.412644  \n",
       "17.0                                    0.417497  \n",
       "18.0                                    0.421584  \n",
       "19.0                                    0.426692  \n",
       "20.0                                    0.430907  "
      ]
     },
     "execution_count": 230,
     "metadata": {},
     "output_type": "execute_result"
    }
   ],
   "source": [
    "answer_span_stats"
   ]
  },
  {
   "cell_type": "markdown",
   "metadata": {},
   "source": [
    "### Error Analysis"
   ]
  },
  {
   "cell_type": "code",
   "execution_count": 35,
   "metadata": {},
   "outputs": [],
   "source": [
    "def nonnull_span_equal(pspan, gspan):\n",
    "    if pspan['end_byte'] == gspan['end_byte'] and pspan['start_byte'] == gspan['start_byte']:\n",
    "      return True\n",
    "    return False\n",
    "\n",
    "def null_span_equal(pspan, gspan):\n",
    "    if pspan['start_byte'] == -1 and pspan['end_byte'] == -1 and gspan is None: \n",
    "        return True\n",
    "    return False\n",
    "    \n",
    "def span_set_equal(gold_answers, short_answers):\n",
    "  \"\"\"Make the spans are completely equal besides null spans.\"\"\"\n",
    "  # both null answers\n",
    "  if any([null_span_equal(_pspan, gold_answers) for _pspan in short_answers]):\n",
    "    return True\n",
    "  if gold_answers is None:\n",
    "    return False\n",
    "  for gspan in gold_answers:\n",
    "    # not finding gspan equal to any spans in gold_answers\n",
    "    if any([nonnull_span_equal(pspan, gspan) for pspan in short_answers]):\n",
    "      return True\n",
    "  return False"
   ]
  },
  {
   "cell_type": "code",
   "execution_count": 36,
   "metadata": {},
   "outputs": [
    {
     "data": {
      "text/plain": [
       "True"
      ]
     },
     "execution_count": 36,
     "metadata": {},
     "output_type": "execute_result"
    }
   ],
   "source": [
    "# Test cases\n",
    "short_answers = [{'end_byte': 80355,\n",
    "  'end_token': 2703,\n",
    "  'start_byte': 80287,\n",
    "  'start_token': 2691}]\n",
    "gold_answers = [{'end_byte': 80355,\n",
    "  'end_token': 2703,\n",
    "  'start_byte': 80287,\n",
    "  'start_token': 2691}]\n",
    "span_set_equal(gold_answers, short_answers)"
   ]
  },
  {
   "cell_type": "code",
   "execution_count": 37,
   "metadata": {},
   "outputs": [
    {
     "data": {
      "text/plain": [
       "False"
      ]
     },
     "execution_count": 37,
     "metadata": {},
     "output_type": "execute_result"
    }
   ],
   "source": [
    "short_answers = [{'end_byte': 8355,\n",
    "  'end_token': 2703,\n",
    "  'start_byte': 80287,\n",
    "  'start_token': 2691}]\n",
    "gold_answers = [{'end_byte': 80355,\n",
    "  'end_token': 2703,\n",
    "  'start_byte': 80287,\n",
    "  'start_token': 2691}]\n",
    "span_set_equal(gold_answers, short_answers)"
   ]
  },
  {
   "cell_type": "code",
   "execution_count": 38,
   "metadata": {},
   "outputs": [
    {
     "data": {
      "text/plain": [
       "True"
      ]
     },
     "execution_count": 38,
     "metadata": {},
     "output_type": "execute_result"
    }
   ],
   "source": [
    "short_answers = [{'end_byte': -1,\n",
    "  'end_token': 2703,\n",
    "  'start_byte': -1,\n",
    "  'start_token': 2691}]\n",
    "gold_answers = None\n",
    "span_set_equal(gold_answers, short_answers)"
   ]
  },
  {
   "cell_type": "code",
   "execution_count": 39,
   "metadata": {},
   "outputs": [
    {
     "data": {
      "text/plain": [
       "False"
      ]
     },
     "execution_count": 39,
     "metadata": {},
     "output_type": "execute_result"
    }
   ],
   "source": [
    "short_answers = [{'end_byte': 8355,\n",
    "  'end_token': 2703,\n",
    "  'start_byte': 80287,\n",
    "  'start_token': 2691}]\n",
    "gold_answers = None\n",
    "span_set_equal(gold_answers, short_answers)"
   ]
  },
  {
   "cell_type": "code",
   "execution_count": 65,
   "metadata": {},
   "outputs": [
    {
     "data": {
      "text/plain": [
       "(3384, 7830)"
      ]
     },
     "execution_count": 65,
     "metadata": {},
     "output_type": "execute_result"
    }
   ],
   "source": [
    "cnt = 0\n",
    "errors = []\n",
    "for prediction in predictions:\n",
    "    example_id = prediction['example_id']\n",
    "    short_answers = prediction['short_answers']\n",
    "    gold_answers = gold_answers_dict[example_id]\n",
    "    _equal = span_set_equal(short_answers=short_answers, gold_answers=gold_answers)\n",
    "    if not _equal:\n",
    "        _errors = {'example_id': example_id,\n",
    "                   'gold_answers': gold_answers,\n",
    "                   'short_answers': short_answers\n",
    "                  }\n",
    "        errors.append(_errors)\n",
    "len(errors), len(predictions)"
   ]
  },
  {
   "cell_type": "code",
   "execution_count": 151,
   "metadata": {},
   "outputs": [],
   "source": [
    "def get_answer_and_question(error):\n",
    "    # model answer\n",
    "    _doc= [e for e in dev_examples if e['example_id'] == error['example_id']][0]\n",
    "    doc_tokens_for_error = _doc['document_tokens']\n",
    "    _tokens = {i: t['token'] for i, t in enumerate(doc_tokens_for_error) if t['start_byte'] >= error['short_answers'][0]['start_byte'] and t['end_byte'] <= error['short_answers'][0]['end_byte']}\n",
    "    model_answers = None\n",
    "    model_span = None\n",
    "    if _tokens:\n",
    "        model_answers = ' '.join(list(_tokens.values()))\n",
    "        model_span = (list(_tokens.keys())[0], list(_tokens.keys())[-1])\n",
    "    # gold answer\n",
    "    gold_answers = []\n",
    "    gold_span = []\n",
    "    gold_tokens = []\n",
    "    if error['gold_answers']:\n",
    "        for gold_answer in error['gold_answers']:\n",
    "            _gold_tokens = {i: t['token'] for i, t in enumerate(doc_tokens_for_error) if t['start_byte'] >= gold_answer['start_byte'] and t['end_byte'] <= gold_answer['end_byte']}\n",
    "            gold_tokens.append(_gold_tokens)\n",
    "            gold_answers.append(' '.join(list(_gold_tokens.values())))\n",
    "            gold_span.append((list(_gold_tokens.keys())[0], list(_gold_tokens.keys())[-1]))\n",
    "    _dict = {#'doc_tokens_for_error': doc_tokens_for_error, \n",
    "             'model_answers': model_answers,\n",
    "             'model_span': model_span,\n",
    "             'gold_answers': gold_answers,\n",
    "             'gold_span': gold_span,\n",
    "             'url': _doc['document_url'],\n",
    "             'question_text': [e for e in dev_examples if e['example_id'] == error['example_id']][0]['question_text']}\n",
    "    return _dict"
   ]
  },
  {
   "cell_type": "markdown",
   "metadata": {},
   "source": [
    "# What are types of mistakes?\n",
    "# Do they happen at a particular place? - i.e. later spans\n",
    "# Contextual vs Synthethic errors\n",
    "# Recall issues(?)\n"
   ]
  },
  {
   "cell_type": "code",
   "execution_count": 126,
   "metadata": {},
   "outputs": [
    {
     "name": "stdout",
     "output_type": "stream",
     "text": [
      "{'end_byte': 68445, 'start_token': 1032, 'end_token': 1040, 'start_byte': 68397}\n"
     ]
    },
    {
     "data": {
      "text/plain": [
       "{'gold_answers': ['Louis Mountbatten , 1st Earl Mountbatten of Burma',\n",
       "  'Louis Mountbatten , 1st Earl Mountbatten of Burma',\n",
       "  'Louis Mountbatten , 1st Earl Mountbatten of Burma'],\n",
       " 'gold_span': [(1032, 1039), (1032, 1039), (1032, 1039)],\n",
       " 'model_answers': 'C. Rajagopalachari',\n",
       " 'model_span': (1607, 1608),\n",
       " 'question_text': 'who was the governor general of india when country became independent',\n",
       " 'url': 'https://en.wikipedia.org//w/index.php?title=Governor-General_of_India&amp;oldid=833230854'}"
      ]
     },
     "execution_count": 126,
     "metadata": {},
     "output_type": "execute_result"
    }
   ],
   "source": [
    "# model span is much later.\n",
    "error_analysis = get_answer_and_question(errors[3])\n",
    "error_analysis"
   ]
  },
  {
   "cell_type": "code",
   "execution_count": 127,
   "metadata": {},
   "outputs": [
    {
     "data": {
      "text/plain": [
       "{'gold_answers': [],\n",
       " 'gold_span': [],\n",
       " 'model_answers': '− 30 ° C ( − 20 ° F )',\n",
       " 'model_span': (855, 864),\n",
       " 'question_text': 'what is the lowest recorded temperature on mount vinson',\n",
       " 'url': 'https://en.wikipedia.org//w/index.php?title=Vinson_Massif&amp;oldid=836064305'}"
      ]
     },
     "execution_count": 127,
     "metadata": {},
     "output_type": "execute_result"
    }
   ],
   "source": [
    "# model span is much later.\n",
    "# grabs the correct type. does not understand the context\n",
    "error_analysis = get_answer_and_question(errors[0])\n",
    "error_analysis"
   ]
  },
  {
   "cell_type": "code",
   "execution_count": 128,
   "metadata": {},
   "outputs": [
    {
     "data": {
      "text/plain": [
       "{'gold_answers': [],\n",
       " 'gold_span': [],\n",
       " 'model_answers': 'Amplitude modulation',\n",
       " 'model_span': (2271, 2272),\n",
       " 'question_text': 'which mode is used for short wave broadcast service',\n",
       " 'url': 'https://en.wikipedia.org//w/index.php?title=Shortwave_radio&amp;oldid=838127903'}"
      ]
     },
     "execution_count": 128,
     "metadata": {},
     "output_type": "execute_result"
    }
   ],
   "source": [
    "# this looks correct?\n",
    "error_analysis = get_answer_and_question(errors[1])\n",
    "error_analysis"
   ]
  },
  {
   "cell_type": "code",
   "execution_count": 113,
   "metadata": {},
   "outputs": [
    {
     "data": {
      "text/plain": [
       "{'example_id': -8817510910624892182,\n",
       " 'gold_answers': None,\n",
       " 'short_answers': [{'end_byte': 81846,\n",
       "   'end_token': -1,\n",
       "   'start_byte': 81826,\n",
       "   'start_token': -1}]}"
      ]
     },
     "execution_count": 113,
     "metadata": {},
     "output_type": "execute_result"
    }
   ],
   "source": [
    "errors[1]"
   ]
  },
  {
   "cell_type": "code",
   "execution_count": 112,
   "metadata": {},
   "outputs": [
    {
     "data": {
      "text/plain": [
       "[{'annotation_id': 10957934160137332476,\n",
       "  'long_answer': {'candidate_index': -1,\n",
       "   'end_byte': -1,\n",
       "   'end_token': -1,\n",
       "   'start_byte': -1,\n",
       "   'start_token': -1},\n",
       "  'short_answers': [],\n",
       "  'yes_no_answer': 'NONE'},\n",
       " {'annotation_id': 2807704282985816749,\n",
       "  'long_answer': {'candidate_index': -1,\n",
       "   'end_byte': -1,\n",
       "   'end_token': -1,\n",
       "   'start_byte': -1,\n",
       "   'start_token': -1},\n",
       "  'short_answers': [],\n",
       "  'yes_no_answer': 'NONE'},\n",
       " {'annotation_id': 5129692602407601925,\n",
       "  'long_answer': {'candidate_index': 0,\n",
       "   'end_byte': 57005,\n",
       "   'end_token': 122,\n",
       "   'start_byte': 56251,\n",
       "   'start_token': 43},\n",
       "  'short_answers': [],\n",
       "  'yes_no_answer': 'NONE'},\n",
       " {'annotation_id': 4965838886380681126,\n",
       "  'long_answer': {'candidate_index': 90,\n",
       "   'end_byte': 104818,\n",
       "   'end_token': 4593,\n",
       "   'start_byte': 104066,\n",
       "   'start_token': 4485},\n",
       "  'short_answers': [{'end_byte': 104576,\n",
       "    'end_token': 4570,\n",
       "    'start_byte': 104572,\n",
       "    'start_token': 4569},\n",
       "   {'end_byte': 104639,\n",
       "    'end_token': 4572,\n",
       "    'start_byte': 104633,\n",
       "    'start_token': 4571}],\n",
       "  'yes_no_answer': 'NONE'},\n",
       " {'annotation_id': 9518639313383123593,\n",
       "  'long_answer': {'candidate_index': -1,\n",
       "   'end_byte': -1,\n",
       "   'end_token': -1,\n",
       "   'start_byte': -1,\n",
       "   'start_token': -1},\n",
       "  'short_answers': [],\n",
       "  'yes_no_answer': 'NONE'}]"
      ]
     },
     "execution_count": 112,
     "metadata": {},
     "output_type": "execute_result"
    }
   ],
   "source": [
    "[d for d in dev_examples if d['example_id'] == errors[1]['example_id']][0]['annotations']"
   ]
  },
  {
   "cell_type": "code",
   "execution_count": 129,
   "metadata": {},
   "outputs": [
    {
     "data": {
      "text/plain": [
       "{'gold_answers': [],\n",
       " 'gold_span': [],\n",
       " 'model_answers': 'Sir Henry Rawlinson',\n",
       " 'model_span': (1581, 1583),\n",
       " 'question_text': 'who wrote the first declaration of human rights',\n",
       " 'url': 'https://en.wikipedia.org//w/index.php?title=Cyrus_Cylinder&amp;oldid=836606627'}"
      ]
     },
     "execution_count": 129,
     "metadata": {},
     "output_type": "execute_result"
    }
   ],
   "source": [
    "# grabs a name again. 'human rights' comes up at the document once. this is how it comes up on google search results. \n",
    "# TODO: what is the score??\n",
    "error_analysis = get_answer_and_question(errors[2])\n",
    "error_analysis"
   ]
  },
  {
   "cell_type": "code",
   "execution_count": 130,
   "metadata": {},
   "outputs": [
    {
     "name": "stdout",
     "output_type": "stream",
     "text": [
      "{'end_byte': 43088, 'start_token': 90, 'end_token': 92, 'start_byte': 43078}\n"
     ]
    },
    {
     "data": {
      "text/plain": [
       "{'gold_answers': ['Dai Yongge',\n",
       "  'Dai Yongge and Dai Xiuli ( majority )',\n",
       "  'Xiu Li Dai',\n",
       "  'Dai Yongge and Dai Xiuli ( majority )',\n",
       "  'Xiu Li Dai'],\n",
       " 'gold_span': [(90, 91), (90, 97), (3918, 3920), (90, 97), (3918, 3920)],\n",
       " 'model_answers': 'Dai Yongge and Dai Xiuli',\n",
       " 'model_span': (90, 94),\n",
       " 'question_text': 'who is the owner of reading football club',\n",
       " 'url': 'https://en.wikipedia.org//w/index.php?title=Reading_F.C.&amp;oldid=819311942'}"
      ]
     },
     "execution_count": 130,
     "metadata": {},
     "output_type": "execute_result"
    }
   ],
   "source": [
    "# this looks right!!!!\n",
    "error_analysis = get_answer_and_question(errors[4])\n",
    "error_analysis"
   ]
  },
  {
   "cell_type": "code",
   "execution_count": 131,
   "metadata": {},
   "outputs": [
    {
     "data": {
      "text/plain": [
       "{'gold_answers': [],\n",
       " 'gold_span': [],\n",
       " 'model_answers': 'Walterboro Army Airfield',\n",
       " 'model_span': (7704, 7706),\n",
       " 'question_text': 'where did the first african american air force unit train',\n",
       " 'url': 'https://en.wikipedia.org//w/index.php?title=Tuskegee_Airmen&amp;oldid=838231620'}"
      ]
     },
     "execution_count": 131,
     "metadata": {},
     "output_type": "execute_result"
    }
   ],
   "source": [
    "# this looks right!\n",
    "error_analysis = get_answer_and_question(errors[5])\n",
    "error_analysis"
   ]
  },
  {
   "cell_type": "code",
   "execution_count": 132,
   "metadata": {},
   "outputs": [
    {
     "name": "stdout",
     "output_type": "stream",
     "text": [
      "{'end_byte': 132681, 'start_token': 6173, 'end_token': 6177, 'start_byte': 132663}\n"
     ]
    },
    {
     "data": {
      "text/plain": [
       "{'gold_answers': ['February 1 , 2018',\n",
       "  'February 1 , 2018',\n",
       "  'February 1 , 2018'],\n",
       " 'gold_span': [(6173, 6176), (6173, 6176), (6173, 6176)],\n",
       " 'model_answers': 'February 8 , 2018',\n",
       " 'model_span': (6213, 6216),\n",
       " 'question_text': 'when is the next scandal episode coming out',\n",
       " 'url': 'https://en.wikipedia.org//w/index.php?title=List_of_Scandal_episodes&amp;oldid=821580194'}"
      ]
     },
     "execution_count": 132,
     "metadata": {},
     "output_type": "execute_result"
    }
   ],
   "source": [
    "# this answer is certainly missing the context\n",
    "error_analysis = get_answer_and_question(errors[6])\n",
    "error_analysis"
   ]
  },
  {
   "cell_type": "code",
   "execution_count": 134,
   "metadata": {},
   "outputs": [
    {
     "data": {
      "text/plain": [
       "{'gold_answers': [],\n",
       " 'gold_span': [],\n",
       " 'model_answers': \"The song relates to both the Old and New Testaments . The verses reflect the Israelites ' escape out of Egypt as found in Exodus 14 . The chorus refers to healing : see John 5 : 4 , `` For an angel went down at a certain season into the pool , and troubled the water : whosoever then first after the troubling of the water stepped in was made whole of whatsoever disease he had . ''\",\n",
       " 'model_span': (388, 466),\n",
       " 'question_text': 'meaning of lyrics to wade in the water',\n",
       " 'url': 'https://en.wikipedia.org//w/index.php?title=Wade_in_the_Water&amp;oldid=833167717'}"
      ]
     },
     "execution_count": 134,
     "metadata": {},
     "output_type": "execute_result"
    }
   ],
   "source": [
    "# looks correct on the long answre\n",
    "error_analysis = get_answer_and_question(errors[7])\n",
    "error_analysis"
   ]
  },
  {
   "cell_type": "code",
   "execution_count": 135,
   "metadata": {},
   "outputs": [
    {
     "data": {
      "text/plain": [
       "{'gold_answers': [],\n",
       " 'gold_span': [],\n",
       " 'model_answers': 'to safeguard the merit system by protecting federal employees and applicants from prohibited personnel practices , especially reprisal for whistleblowing',\n",
       " 'model_span': (542, 561),\n",
       " 'question_text': 'the primary reason for the creation of federal whistleblower statutes was to',\n",
       " 'url': 'https://en.wikipedia.org//w/index.php?title=Whistleblower_Protection_Act&amp;oldid=838141336'}"
      ]
     },
     "execution_count": 135,
     "metadata": {},
     "output_type": "execute_result"
    }
   ],
   "source": [
    "# looks correct! what\n",
    "error_analysis = get_answer_and_question(errors[8])\n",
    "error_analysis"
   ]
  },
  {
   "cell_type": "code",
   "execution_count": 136,
   "metadata": {},
   "outputs": [
    {
     "data": {
      "text/plain": [
       "{'gold_answers': [],\n",
       " 'gold_span': [],\n",
       " 'model_answers': 'Alladi Krishnaswamy Iyer',\n",
       " 'model_span': (556, 558),\n",
       " 'question_text': 'who was the first lady nominated member of the rajya sabha',\n",
       " 'url': 'https://en.wikipedia.org//w/index.php?title=List_of_nominated_members_of_Rajya_Sabha&amp;oldid=818220921'}"
      ]
     },
     "execution_count": 136,
     "metadata": {},
     "output_type": "execute_result"
    }
   ],
   "source": [
    "# looks correct! though the male/female context is probably missing because it is a non-English name\n",
    "error_analysis = get_answer_and_question(errors[9])\n",
    "error_analysis"
   ]
  },
  {
   "cell_type": "code",
   "execution_count": 137,
   "metadata": {},
   "outputs": [
    {
     "data": {
      "text/plain": [
       "{'gold_answers': [],\n",
       " 'gold_span': [],\n",
       " 'model_answers': '2017',\n",
       " 'model_span': (3085, 3085),\n",
       " 'question_text': 'when was the last time the world series went less than 7 games',\n",
       " 'url': 'https://en.wikipedia.org//w/index.php?title=Game_seven&amp;oldid=813197908'}"
      ]
     },
     "execution_count": 137,
     "metadata": {},
     "output_type": "execute_result"
    }
   ],
   "source": [
    "error_analysis = get_answer_and_question(errors[10])\n",
    "error_analysis"
   ]
  },
  {
   "cell_type": "code",
   "execution_count": 138,
   "metadata": {},
   "outputs": [
    {
     "data": {
      "text/plain": [
       "{'gold_answers': [],\n",
       " 'gold_span': [],\n",
       " 'model_answers': 'Kobe Bryant',\n",
       " 'model_span': (391, 392),\n",
       " 'question_text': 'who has played for the most nba teams',\n",
       " 'url': 'https://en.wikipedia.org//w/index.php?title=List_of_NBA_players_who_have_spent_their_entire_career_with_one_franchise&amp;oldid=806218522'}"
      ]
     },
     "execution_count": 138,
     "metadata": {},
     "output_type": "execute_result"
    }
   ],
   "source": [
    "# this is the wrong wikipedia article. at that time, kobe was probably the top in the list. \n",
    "error_analysis = get_answer_and_question(errors[11])\n",
    "error_analysis"
   ]
  },
  {
   "cell_type": "code",
   "execution_count": 139,
   "metadata": {},
   "outputs": [
    {
     "data": {
      "text/plain": [
       "{'gold_answers': ['28.0. 0.137', '28.0. 0.137'],\n",
       " 'gold_span': [(96, 97), (3589, 3590)],\n",
       " 'model_answers': 'Version 9',\n",
       " 'model_span': (4037, 4038),\n",
       " 'question_text': 'what is the most current adobe flash player version',\n",
       " 'url': 'https://en.wikipedia.org//w/index.php?title=Adobe_Flash_Player&amp;oldid=821558952'}"
      ]
     },
     "execution_count": 139,
     "metadata": {},
     "output_type": "execute_result"
    }
   ],
   "source": [
    "# hard one.\n",
    "error_analysis = get_answer_and_question(errors[12])\n",
    "error_analysis"
   ]
  },
  {
   "cell_type": "code",
   "execution_count": 140,
   "metadata": {},
   "outputs": [
    {
     "data": {
      "text/plain": [
       "{'gold_answers': ['Pyotr Ilyich Tchaikovsky',\n",
       "  'Pyotr Ilyich Tchaikovsky',\n",
       "  'Pyotr Ilyich Tchaikovsky',\n",
       "  'Pyotr Ilyich Tchaikovsky',\n",
       "  'Pyotr Ilyich Tchaikovsky'],\n",
       " 'gold_span': [(27, 29), (27, 29), (27, 29), (27, 29), (27, 29)],\n",
       " 'model_answers': 'Pyotr Ilyich Tchaikovsky',\n",
       " 'model_span': (103, 105),\n",
       " 'question_text': 'swan lake the sleeping beauty and the nutcracker are three famous ballets by',\n",
       " 'url': 'https://en.wikipedia.org//w/index.php?title=The_Sleeping_Beauty_(ballet)&amp;oldid=820890862'}"
      ]
     },
     "execution_count": 140,
     "metadata": {},
     "output_type": "execute_result"
    }
   ],
   "source": [
    "# this is right too. just repetitions\n",
    "error_analysis = get_answer_and_question(errors[13])\n",
    "error_analysis"
   ]
  },
  {
   "cell_type": "code",
   "execution_count": 141,
   "metadata": {},
   "outputs": [
    {
     "data": {
      "text/plain": [
       "{'gold_answers': [],\n",
       " 'gold_span': [],\n",
       " 'model_answers': 'Aaron Rodgers',\n",
       " 'model_span': (15127, 15128),\n",
       " 'question_text': 'who has scored the most touchdowns this year',\n",
       " 'url': 'https://en.wikipedia.org//w/index.php?title=List_of_National_Football_League_records_(individual)&amp;oldid=821726501'}"
      ]
     },
     "execution_count": 141,
     "metadata": {},
     "output_type": "execute_result"
    }
   ],
   "source": [
    "# probably picks up: Most consecutive touchdowns, none intercepted, home\n",
    "error_analysis = get_answer_and_question(errors[14])\n",
    "error_analysis"
   ]
  },
  {
   "cell_type": "code",
   "execution_count": 142,
   "metadata": {},
   "outputs": [
    {
     "data": {
      "text/plain": [
       "{'gold_answers': ['291', '291 episodes', '291', '291'],\n",
       " 'gold_span': [(194, 194), (194, 195), (210, 210), (210, 210)],\n",
       " 'model_answers': '200 - 291',\n",
       " 'model_span': (282, 284),\n",
       " 'question_text': 'how many episodes are there in dragon ball z',\n",
       " 'url': 'https://en.wikipedia.org//w/index.php?title=List_of_Dragon_Ball_Z_episodes&amp;oldid=836279411'}"
      ]
     },
     "execution_count": 142,
     "metadata": {},
     "output_type": "execute_result"
    }
   ],
   "source": [
    "# this is a mistake.\n",
    "error_analysis = get_answer_and_question(errors[15])\n",
    "error_analysis"
   ]
  },
  {
   "cell_type": "code",
   "execution_count": 143,
   "metadata": {},
   "outputs": [
    {
     "data": {
      "text/plain": [
       "{'gold_answers': [],\n",
       " 'gold_span': [],\n",
       " 'model_answers': 'Character </Th> <Th> Rank / Position </Th> <Th colspan=\"3\"> Seasons </Th> <Th> Notes </Th> </Tr> <Tr> <Th> Regular </Th> <Th> Recurring </Th> <Th> Guest </Th> </Tr> <Tr> <Td> Christopher Meloni </Td> <Td> Elliot Stabler </Td> <Td> Detective </Td> <Td> 1 -- 12 </Td> <Td> </Td> <Td> </Td> <Td> </Td> </Tr> <Tr> <Td> Mariska Hargitay </Td> <Td> Olivia Benson </Td> <Td> Lieutenant </Td> <Td> 1 -- </Td> <Td> </Td> <Td> </Td> <Td> </Td> </Tr> <Tr> <Td> Richard Belzer </Td> <Td> John Munch </Td> <Td> DA Investigator </Td> <Td> 1 -- 15 </Td> <Td> </Td> <Td> 15 , 17 </Td> <Td> </Td> </Tr> <Tr> <Td> Dann Florek </Td> <Td> Donald Cragen </Td> <Td> Captain </Td> <Td> 1 -- 15 </Td> <Td> </Td> <Td> 16 </Td> <Td> </Td> </Tr> <Tr> <Td> Michelle Hurd </Td> <Td> Monique Jeffries </Td> <Td> Detective </Td> <Td> 1 -- 2 </Td> <Td> </Td> <Td> </Td> <Td> </Td> </Tr> <Tr> <Td> Stephanie March </Td> <Td> Alexandra Cabot </Td> <Td> Assistant District Attorney </Td> <Td> 2 -- 5 , 11 </Td> <Td> 2 , 10 , 13 </Td> <Td> 6 </Td> <Td> </Td> </Tr> <Tr> <Td> Ice - T </Td> <Td> Odafin `` Fin \\'\\' Tutuola </Td> <Td> Detective </Td> <Td> 2 -- </Td> <Td> </Td> <Td> </Td> <Td> </Td> </Tr> <Tr> <Td> Tamara Tunie </Td> <Td> Melinda Warner </Td> <Td> Medical Examiner </Td> <Td> 7 -- 12 </Td> <Td> 2 -- 6 , 13 -- 17 </Td> <Td> 19 </Td> <Td> </Td> </Tr> <Tr> <Td> B.D. Wong </Td> <Td> George Huang </Td> <Td> FBI Special Agent </Td> <Td> 4 -- 12 </Td> <Td> 2 -- 3 </Td> <Td> 13 -- 15 , 17 </Td> <Td> </Td> </Tr> <Tr> <Td> Diane Neal </Td> <Td> Casey Novak </Td> <Td> Senior Assistant District Attorney </Td> <Td> 5 -- 9 </Td> <Td> 13 </Td> <Td> 12 </Td> <Td> </Td> </Tr> <Tr> <Td> Adam Beach </Td> <Td> Chester Lake </Td> <Td> Detective </Td> <Td> 9 </Td> <Td> 8 </Td> <Td> </Td> <Td> </Td> </Tr> <Tr> <Td> Michaela McManus </Td> <Td> Kim Greylek </Td> <Td> Assistant District Attorney </Td> <Td> 10 </Td> <Td> </Td> <Td> </Td> <Td> </Td> </Tr> <Tr> <Td> Danny Pino </Td> <Td> Nick Amaro </Td> <Td> Detective </Td> <Td> 13 -- 16 </Td> <Td> </Td> <Td> </Td> <Td> </Td> </Tr> <Tr> <Td> Kelli Giddish </Td> <Td> Amanda Rollins </Td> <Td> Detective </Td> <Td> 13 -- </Td> <Td> </Td> <Td> </Td> <Td> </Td> </Tr> <Tr> <Td> Raúl Esparza </Td> <Td> Rafael Barba </Td> <Td> Assistant District Attorney </Td> <Td> 15 -- </Td> <Td> 14 </Td> <Td> </Td> <Td> </Td> </Tr> <Tr> <Td> Peter Scanavino </Td> <Td> Dominick Carisi Jr . </Td> <Td> Detective </Td> <Td> 16 -- </Td> <Td> 16',\n",
       " 'model_span': (5013, 5458),\n",
       " 'question_text': 'cast of law & order special victim unit',\n",
       " 'url': 'https://en.wikipedia.org//w/index.php?title=Law_%26_Order:_Special_Victims_Unit&amp;oldid=822138652'}"
      ]
     },
     "execution_count": 143,
     "metadata": {},
     "output_type": "execute_result"
    }
   ],
   "source": [
    "# also looks correct\n",
    "error_analysis = get_answer_and_question(errors[16])\n",
    "error_analysis"
   ]
  },
  {
   "cell_type": "code",
   "execution_count": 144,
   "metadata": {},
   "outputs": [
    {
     "data": {
      "text/plain": [
       "{'gold_answers': [],\n",
       " 'gold_span': [],\n",
       " 'model_answers': \"`` someone who wants to love so badly she 's lying there in complete darkness\",\n",
       " 'model_span': (1093, 1107),\n",
       " 'question_text': 'what is the total eclipse of the heart video about',\n",
       " 'url': 'https://en.wikipedia.org//w/index.php?title=Total_Eclipse_of_the_Heart&amp;oldid=822305104'}"
      ]
     },
     "execution_count": 144,
     "metadata": {},
     "output_type": "execute_result"
    }
   ],
   "source": [
    "# also looks correct!!!\n",
    "# Tyler told Record Mirror that she thought the song was about \"someone who wants to love so badly she's lying there in complete darkness.\"[9]\n",
    "error_analysis = get_answer_and_question(errors[17])\n",
    "error_analysis"
   ]
  },
  {
   "cell_type": "code",
   "execution_count": 145,
   "metadata": {},
   "outputs": [
    {
     "data": {
      "text/plain": [
       "{'gold_answers': ['The planner Raymond Unwin and the architect Barry Parker',\n",
       "  'planner Raymond Unwin and the architect Barry Parker',\n",
       "  'planner Raymond Unwin',\n",
       "  'Raymond Unwin'],\n",
       " 'gold_span': [(700, 708), (701, 708), (701, 703), (702, 703)],\n",
       " 'model_answers': 'York philanthropist , Joseph Rowntree',\n",
       " 'model_span': (480, 484),\n",
       " 'question_text': 'who designed the garden city of new earswick',\n",
       " 'url': 'https://en.wikipedia.org//w/index.php?title=New_Earswick&amp;oldid=826057861'}"
      ]
     },
     "execution_count": 145,
     "metadata": {},
     "output_type": "execute_result"
    }
   ],
   "source": [
    "error_analysis = get_answer_and_question(errors[18])\n",
    "error_analysis"
   ]
  },
  {
   "cell_type": "code",
   "execution_count": 152,
   "metadata": {},
   "outputs": [
    {
     "data": {
      "text/plain": [
       "{'gold_answers': ['photoreceptor proteins that sense light',\n",
       "  'eyespots',\n",
       "  \"photoreceptor proteins that sense light , found even in unicellular organisms , called `` eyespots ''\"],\n",
       " 'gold_span': [(1270, 1274), (1284, 1284), (1270, 1285)],\n",
       " 'model_answers': None,\n",
       " 'model_span': None,\n",
       " 'question_text': 'what is the first step in the evolution of the eye',\n",
       " 'url': 'https://en.wikipedia.org//w/index.php?title=Evolution_of_the_eye&amp;oldid=838517245'}"
      ]
     },
     "execution_count": 152,
     "metadata": {},
     "output_type": "execute_result"
    }
   ],
   "source": [
    "# RECALL ISSUE. \n",
    "error_analysis = get_answer_and_question(errors[19])\n",
    "error_analysis"
   ]
  },
  {
   "cell_type": "code",
   "execution_count": 153,
   "metadata": {},
   "outputs": [
    {
     "data": {
      "text/plain": [
       "{'gold_answers': [],\n",
       " 'gold_span': [],\n",
       " 'model_answers': 'In the ninth season',\n",
       " 'model_span': (638, 641),\n",
       " 'question_text': \"when does karev die in grey's anatomy\",\n",
       " 'url': 'https://en.wikipedia.org//w/index.php?title=Alex_Karev&amp;oldid=806916198'}"
      ]
     },
     "execution_count": 153,
     "metadata": {},
     "output_type": "execute_result"
    }
   ],
   "source": [
    "# again, picks the right synthax / NER but context is way off. !!!!!\n",
    "error_analysis = get_answer_and_question(errors[20])\n",
    "error_analysis"
   ]
  },
  {
   "cell_type": "code",
   "execution_count": 154,
   "metadata": {},
   "outputs": [
    {
     "data": {
      "text/plain": [
       "{'gold_answers': ['Yaya Touré', 'Yaya Touré', 'Yaya Touré', 'Yaya Touré'],\n",
       " 'gold_span': [(2968, 2969), (2968, 2969), (2968, 2969), (2968, 2969)],\n",
       " 'model_answers': None,\n",
       " 'model_span': None,\n",
       " 'question_text': 'who was named african footballer of the year 2014',\n",
       " 'url': 'https://en.wikipedia.org//w/index.php?title=African_Footballer_of_the_Year&amp;oldid=822578197'}"
      ]
     },
     "execution_count": 154,
     "metadata": {},
     "output_type": "execute_result"
    }
   ],
   "source": [
    "# recall. false negative\n",
    "error_analysis = get_answer_and_question(errors[21])\n",
    "error_analysis"
   ]
  },
  {
   "cell_type": "code",
   "execution_count": 155,
   "metadata": {},
   "outputs": [
    {
     "data": {
      "text/plain": [
       "{'gold_answers': ['lithium', 'Lithium'],\n",
       " 'gold_span': [(6974, 6974), (1594, 1594)],\n",
       " 'model_answers': 'tritium',\n",
       " 'model_span': (8073, 8073),\n",
       " 'question_text': 'what is the main mineral in lithium batteries',\n",
       " 'url': 'https://en.wikipedia.org//w/index.php?title=Lithium&amp;oldid=819518707'}"
      ]
     },
     "execution_count": 155,
     "metadata": {},
     "output_type": "execute_result"
    }
   ],
   "source": [
    "# material. but wrong one.\n",
    "error_analysis = get_answer_and_question(errors[22])\n",
    "error_analysis"
   ]
  },
  {
   "cell_type": "code",
   "execution_count": 156,
   "metadata": {},
   "outputs": [
    {
     "data": {
      "text/plain": [
       "{'gold_answers': ['constitutional right', 'constitutional right'],\n",
       " 'gold_span': [(6863, 6864), (6863, 6864)],\n",
       " 'model_answers': None,\n",
       " 'model_span': None,\n",
       " 'question_text': 'right to property according to the constitution of india is a',\n",
       " 'url': 'https://en.wikipedia.org//w/index.php?title=Fundamental_rights_in_India&amp;oldid=837658190'}"
      ]
     },
     "execution_count": 156,
     "metadata": {},
     "output_type": "execute_result"
    }
   ],
   "source": [
    "# recall. false negative\n",
    "error_analysis = get_answer_and_question(errors[23])\n",
    "error_analysis"
   ]
  },
  {
   "cell_type": "code",
   "execution_count": 158,
   "metadata": {},
   "outputs": [
    {
     "data": {
      "text/plain": [
       "{'gold_answers': [],\n",
       " 'gold_span': [],\n",
       " 'model_answers': 'No one both contracted and died of Ebola virus disease while in the United States . No new cases have been diagnosed in the United States since Craig Spencer was released from a New York City hospital on November 11 , 2014 .',\n",
       " 'model_span': (548, 590),\n",
       " 'question_text': 'did anyone die from ebola in the us',\n",
       " 'url': 'https://en.wikipedia.org//w/index.php?title=Ebola_virus_cases_in_the_United_States&amp;oldid=834124413'}"
      ]
     },
     "execution_count": 158,
     "metadata": {},
     "output_type": "execute_result"
    }
   ],
   "source": [
    "# this looks correct\n",
    "error_analysis = get_answer_and_question(errors[24])\n",
    "error_analysis"
   ]
  },
  {
   "cell_type": "code",
   "execution_count": 159,
   "metadata": {},
   "outputs": [
    {
     "data": {
      "text/plain": [
       "{'gold_answers': [],\n",
       " 'gold_span': [],\n",
       " 'model_answers': 'Tulsa , Oklahoma',\n",
       " 'model_span': (289, 291),\n",
       " 'question_text': 'where do the greasers live in the outsiders',\n",
       " 'url': 'https://en.wikipedia.org//w/index.php?title=The_Outsiders_(novel)&amp;oldid=837955086'}"
      ]
     },
     "execution_count": 159,
     "metadata": {},
     "output_type": "execute_result"
    }
   ],
   "source": [
    "# this looks correct\n",
    "error_analysis = get_answer_and_question(errors[25])\n",
    "error_analysis"
   ]
  },
  {
   "cell_type": "code",
   "execution_count": 162,
   "metadata": {},
   "outputs": [
    {
     "data": {
      "text/plain": [
       "{'gold_answers': ['the Yakima ( Washington ) and Willamette ( Oregon ) valleys',\n",
       "  'the leading potato - growing states in the United States',\n",
       "  'the Yakima ( Washington ) and Willamette ( Oregon ) valleys',\n",
       "  'Washington',\n",
       "  'Yakima ( Washington )'],\n",
       " 'gold_span': [(1149, 1159),\n",
       "  (1043, 1052),\n",
       "  (1149, 1159),\n",
       "  (1152, 1152),\n",
       "  (1150, 1153)],\n",
       " 'model_answers': None,\n",
       " 'model_span': None,\n",
       " 'question_text': 'where do they grow hops in the us',\n",
       " 'url': 'https://en.wikipedia.org//w/index.php?title=Hops&amp;oldid=836763018'}"
      ]
     },
     "execution_count": 162,
     "metadata": {},
     "output_type": "execute_result"
    }
   ],
   "source": [
    "error_analysis = get_answer_and_question(errors[26])\n",
    "error_analysis"
   ]
  },
  {
   "cell_type": "code",
   "execution_count": 164,
   "metadata": {},
   "outputs": [
    {
     "data": {
      "text/plain": [
       "{'gold_answers': ['Spike',\n",
       "  'Spike',\n",
       "  'Spike , occasionally referred to as Butch or Killer'],\n",
       " 'gold_span': [(1520, 1520), (1520, 1520), (1520, 1528)],\n",
       " 'model_answers': 'Rumpley',\n",
       " 'model_span': (8285, 8285),\n",
       " 'question_text': \"what's the dog's name on tom and jerry\",\n",
       " 'url': 'https://en.wikipedia.org//w/index.php?title=List_of_Tom_and_Jerry_characters&amp;oldid=812821786'}"
      ]
     },
     "execution_count": 164,
     "metadata": {},
     "output_type": "execute_result"
    }
   ],
   "source": [
    "# this is way at the end. maybe boost answers in earlier spans. \n",
    "error_analysis = get_answer_and_question(errors[27])\n",
    "error_analysis"
   ]
  },
  {
   "cell_type": "code",
   "execution_count": 165,
   "metadata": {},
   "outputs": [
    {
     "data": {
      "text/plain": [
       "{'gold_answers': [],\n",
       " 'gold_span': [],\n",
       " 'model_answers': 'Vaugier appeared in Need for Speed : Carbon as Nikki . She is the girlfriend of the antagonist in the game ( love interest of the protagonist ) .',\n",
       " 'model_span': (948, 976),\n",
       " 'question_text': 'who plays nikki in need for speed carbon',\n",
       " 'url': 'https://en.wikipedia.org//w/index.php?title=Emmanuelle_Vaugier&amp;oldid=836763004'}"
      ]
     },
     "execution_count": 165,
     "metadata": {},
     "output_type": "execute_result"
    }
   ],
   "source": [
    "# \"appeared\" doesn't mean she plays nikki in the movie\"\n",
    "error_analysis = get_answer_and_question(errors[28])\n",
    "error_analysis"
   ]
  },
  {
   "cell_type": "code",
   "execution_count": 166,
   "metadata": {},
   "outputs": [
    {
     "data": {
      "text/plain": [
       "{'gold_answers': ['Nigeria', 'Nigeria', 'Nigeria', 'Nigeria'],\n",
       " 'gold_span': [(19, 19), (19, 19), (19, 19), (19, 19)],\n",
       " 'model_answers': 'Angola and Nigeria',\n",
       " 'model_span': (1635, 1637),\n",
       " 'question_text': 'in which regions are most of africa petroleum and natural gas found',\n",
       " 'url': 'https://en.wikipedia.org//w/index.php?title=Petroleum_industry_in_Nigeria&amp;oldid=834244345'}"
      ]
     },
     "execution_count": 166,
     "metadata": {},
     "output_type": "execute_result"
    }
   ],
   "source": [
    "# THIS LOOKS CORRECT TOO!!!\n",
    "error_analysis = get_answer_and_question(errors[29])\n",
    "error_analysis"
   ]
  },
  {
   "cell_type": "code",
   "execution_count": 167,
   "metadata": {},
   "outputs": [
    {
     "data": {
      "text/plain": [
       "{'gold_answers': [],\n",
       " 'gold_span': [],\n",
       " 'model_answers': 'Platform 13',\n",
       " 'model_span': (5462, 5463),\n",
       " 'question_text': 'what platform is sandringham line at flinders st',\n",
       " 'url': 'https://en.wikipedia.org//w/index.php?title=Flinders_Street_railway_station&amp;oldid=819098902'}"
      ]
     },
     "execution_count": 167,
     "metadata": {},
     "output_type": "execute_result"
    }
   ],
   "source": [
    "# CORRECT!!!!\n",
    "error_analysis = get_answer_and_question(errors[30])\n",
    "error_analysis"
   ]
  },
  {
   "cell_type": "code",
   "execution_count": 168,
   "metadata": {},
   "outputs": [
    {
     "data": {
      "text/plain": [
       "{'gold_answers': [],\n",
       " 'gold_span': [],\n",
       " 'model_answers': 'Barbara Eden Nanette Fabray Ronny Cox Louis Nye Susan Swift Pat Paulsen',\n",
       " 'model_span': (74, 85),\n",
       " 'question_text': 'who played in the movie harper valley pta',\n",
       " 'url': 'https://en.wikipedia.org//w/index.php?title=Harper_Valley_PTA_(film)&amp;oldid=818590841'}"
      ]
     },
     "execution_count": 168,
     "metadata": {},
     "output_type": "execute_result"
    }
   ],
   "source": [
    "# CORRECT!!!! CAN ANNOTATIONS BE IMPROVED ?\n",
    "error_analysis = get_answer_and_question(errors[31])\n",
    "error_analysis"
   ]
  },
  {
   "cell_type": "code",
   "execution_count": 169,
   "metadata": {},
   "outputs": [
    {
     "data": {
      "text/plain": [
       "{'gold_answers': [],\n",
       " 'gold_span': [],\n",
       " 'model_answers': 'wild oysters',\n",
       " 'model_span': (3092, 3093),\n",
       " 'question_text': 'in which sea pearl is found in india',\n",
       " 'url': 'https://en.wikipedia.org//w/index.php?title=Pearl&amp;oldid=835416381'}"
      ]
     },
     "execution_count": 169,
     "metadata": {},
     "output_type": "execute_result"
    }
   ],
   "source": [
    "# the 'synthex` is wrong. bad error.\n",
    "error_analysis = get_answer_and_question(errors[32])\n",
    "error_analysis"
   ]
  },
  {
   "cell_type": "code",
   "execution_count": 170,
   "metadata": {},
   "outputs": [
    {
     "data": {
      "text/plain": [
       "{'gold_answers': ['China', 'China', 'China', 'China', 'China'],\n",
       " 'gold_span': [(537, 537), (537, 537), (537, 537), (537, 537), (537, 537)],\n",
       " 'model_answers': None,\n",
       " 'model_span': None,\n",
       " 'question_text': 'panda is a national animal of which country',\n",
       " 'url': 'https://en.wikipedia.org//w/index.php?title=List_of_national_animals&amp;oldid=837910587'}"
      ]
     },
     "execution_count": 170,
     "metadata": {},
     "output_type": "execute_result"
    }
   ],
   "source": [
    "# the 'synthex` is wrong. bad error.\n",
    "# EXPLORE IT FURTHER.\n",
    "error_analysis = get_answer_and_question(errors[33])\n",
    "error_analysis"
   ]
  },
  {
   "cell_type": "code",
   "execution_count": 171,
   "metadata": {},
   "outputs": [
    {
     "data": {
      "text/plain": [
       "{'gold_answers': ['14', '14', '14', '14'],\n",
       " 'gold_span': [(68, 68), (235, 235), (235, 235), (235, 235)],\n",
       " 'model_answers': '14 member countries',\n",
       " 'model_span': (944, 946),\n",
       " 'question_text': 'how many countries are a part of opec',\n",
       " 'url': 'https://en.wikipedia.org//w/index.php?title=OPEC&amp;oldid=834259589'}"
      ]
     },
     "execution_count": 171,
     "metadata": {},
     "output_type": "execute_result"
    }
   ],
   "source": [
    "error_analysis = get_answer_and_question(errors[34])\n",
    "error_analysis"
   ]
  },
  {
   "cell_type": "code",
   "execution_count": 172,
   "metadata": {},
   "outputs": [
    {
     "data": {
      "text/plain": [
       "{'gold_answers': ['light utility vehicles', 'sport utility vehicles'],\n",
       " 'gold_span': [(685, 687), (282, 284)],\n",
       " 'model_answers': 'four - wheel drive',\n",
       " 'model_span': (2931, 2934),\n",
       " 'question_text': 'what type of car is a jeep considered',\n",
       " 'url': 'https://en.wikipedia.org//w/index.php?title=Jeep&amp;oldid=837725447'}"
      ]
     },
     "execution_count": 172,
     "metadata": {},
     "output_type": "execute_result"
    }
   ],
   "source": [
    "# MUCH LATER.\n",
    "error_analysis = get_answer_and_question(errors[35])\n",
    "error_analysis"
   ]
  },
  {
   "cell_type": "code",
   "execution_count": 231,
   "metadata": {},
   "outputs": [
    {
     "data": {
      "text/plain": [
       "{'gold_answers': ['between the Eastern Ghats and the Bay of Bengal',\n",
       "  'from Tamil Nadu in the south to West Bengal in the north through Andhra Pradesh and Odisha',\n",
       "  'between the Eastern Ghats and the Bay of Bengal'],\n",
       " 'gold_span': [(89, 97), (111, 127), (89, 97)],\n",
       " 'model_answers': 'between the Eastern Ghats and the Bay of Bengal . It is wider and leveled than the western coastal plains and stretches from Tamil Nadu in the south to West Bengal in the north through Andhra Pradesh and Odisha',\n",
       " 'model_span': (89, 127),\n",
       " 'question_text': 'where are the coastal plains of india situated',\n",
       " 'url': 'https://en.wikipedia.org//w/index.php?title=Eastern_coastal_plains&amp;oldid=812520937'}"
      ]
     },
     "execution_count": 231,
     "metadata": {},
     "output_type": "execute_result"
    }
   ],
   "source": [
    "# KIND OF TRUE\n",
    "error_analysis = get_answer_and_question(errors[36])\n",
    "error_analysis"
   ]
  },
  {
   "cell_type": "code",
   "execution_count": 232,
   "metadata": {},
   "outputs": [
    {
     "data": {
      "text/plain": [
       "{'gold_answers': [\"Destiny 's Child\",\n",
       "  'Solange Knowles',\n",
       "  \"Destiny 's Child\",\n",
       "  'Solange Knowles'],\n",
       " 'gold_span': [(187, 189), (184, 185), (187, 189), (184, 185)],\n",
       " 'model_answers': \"Solange Knowles & Destiny 's Child\",\n",
       " 'model_span': (184, 189),\n",
       " 'question_text': 'who sings the theme song for the proud family',\n",
       " 'url': 'https://en.wikipedia.org//w/index.php?title=The_Proud_Family_(soundtrack)&amp;oldid=638462881'}"
      ]
     },
     "execution_count": 232,
     "metadata": {},
     "output_type": "execute_result"
    }
   ],
   "source": [
    "#  TRUE\n",
    "error_analysis = get_answer_and_question(errors[37])\n",
    "error_analysis"
   ]
  },
  {
   "cell_type": "code",
   "execution_count": 233,
   "metadata": {},
   "outputs": [
    {
     "data": {
      "text/plain": [
       "{'gold_answers': ['almost certainly wrote his version of the title role for his fellow actor , Richard Burbage',\n",
       "  'his fellow actor , Richard Burbage',\n",
       "  \"for his fellow actor , Richard Burbage , the leading tragedian of Shakespeare 's time\",\n",
       "  'his fellow actor , Richard Burbage'],\n",
       " 'gold_span': [(335, 350), (345, 350), (344, 358), (345, 350)],\n",
       " 'model_answers': 'Richard Burbage',\n",
       " 'model_span': (9965, 9966),\n",
       " 'question_text': 'who did shakespeare write his play hamlet for',\n",
       " 'url': 'https://en.wikipedia.org//w/index.php?title=Hamlet&amp;oldid=838253610'}"
      ]
     },
     "execution_count": 233,
     "metadata": {},
     "output_type": "execute_result"
    }
   ],
   "source": [
    "error_analysis = get_answer_and_question(errors[38])\n",
    "error_analysis"
   ]
  },
  {
   "cell_type": "code",
   "execution_count": 234,
   "metadata": {},
   "outputs": [
    {
     "data": {
      "text/plain": [
       "{'gold_answers': [],\n",
       " 'gold_span': [],\n",
       " 'model_answers': 'Robert Frost',\n",
       " 'model_span': (41, 42),\n",
       " 'question_text': 'who wrote the poem the woods are lovely dark and deep',\n",
       " 'url': 'https://en.wikipedia.org//w/index.php?title=Stopping_by_Woods_on_a_Snowy_Evening&amp;oldid=826525203'}"
      ]
     },
     "execution_count": 234,
     "metadata": {},
     "output_type": "execute_result"
    }
   ],
   "source": [
    "error_analysis = get_answer_and_question(errors[39])\n",
    "error_analysis"
   ]
  },
  {
   "cell_type": "code",
   "execution_count": 235,
   "metadata": {},
   "outputs": [
    {
     "data": {
      "text/plain": [
       "{'gold_answers': ['a woman who had a sexual relationship with Paul whilst at university',\n",
       "  'Valene Kane',\n",
       "  'Valene Kane',\n",
       "  'Valene Kane'],\n",
       " 'gold_span': [(2691, 2702), (604, 605), (604, 605), (604, 605)],\n",
       " 'model_answers': 'Tom Stagg',\n",
       " 'model_span': (3224, 3225),\n",
       " 'question_text': 'who is rose in the fall season 2',\n",
       " 'url': 'https://en.wikipedia.org//w/index.php?title=List_of_The_Fall_characters&amp;oldid=811099612'}"
      ]
     },
     "execution_count": 235,
     "metadata": {},
     "output_type": "execute_result"
    }
   ],
   "source": [
    "# Tom Stagg (Jonjo O'Neill), Rose Stagg's husband\n",
    "error_analysis = get_answer_and_question(errors[40])\n",
    "error_analysis"
   ]
  },
  {
   "cell_type": "code",
   "execution_count": 236,
   "metadata": {},
   "outputs": [
    {
     "data": {
      "text/plain": [
       "{'gold_answers': [],\n",
       " 'gold_span': [],\n",
       " 'model_answers': \"The Sea of Monsters is a fantasy - adventure novel based on Greek mythology written by Rick Riordan and published in 2006 . It is the second novel in the Percy Jackson & the Olympians series and the sequel to The Lightning Thief . This book chronicles the adventures of thirteen - year - old demigod Percy Jackson as he and his friends rescue his satyr friend Grover from the Cyclops Polyphemus and save the camp from a Titan 's attack by bringing the Golden Fleece to cure Thalia 's poisoned pine tree .\",\n",
       " 'model_span': (240, 333),\n",
       " 'question_text': 'percy jackson and the olympians sea of monsters summary',\n",
       " 'url': 'https://en.wikipedia.org//w/index.php?title=The_Sea_of_Monsters&amp;oldid=821188590'}"
      ]
     },
     "execution_count": 236,
     "metadata": {},
     "output_type": "execute_result"
    }
   ],
   "source": [
    "error_analysis = get_answer_and_question(errors[41])\n",
    "error_analysis"
   ]
  },
  {
   "cell_type": "code",
   "execution_count": 237,
   "metadata": {},
   "outputs": [
    {
     "data": {
      "text/plain": [
       "{'gold_answers': [],\n",
       " 'gold_span': [],\n",
       " 'model_answers': 'Emilio Scotto',\n",
       " 'model_span': (103, 104),\n",
       " 'question_text': 'who holds the record for longest motorcycle jump',\n",
       " 'url': 'https://en.wikipedia.org//w/index.php?title=Emilio_Scotto&amp;oldid=833804963'}"
      ]
     },
     "execution_count": 237,
     "metadata": {},
     "output_type": "execute_result"
    }
   ],
   "source": [
    "# TRUE!\n",
    "error_analysis = get_answer_and_question(errors[42])\n",
    "error_analysis"
   ]
  },
  {
   "cell_type": "code",
   "execution_count": 238,
   "metadata": {},
   "outputs": [
    {
     "data": {
      "text/plain": [
       "{'gold_answers': ['Tracy McConnell',\n",
       "  'Tracy McConnell',\n",
       "  'Tracy McConnell',\n",
       "  'Tracy McConnell',\n",
       "  'Tracy McConnell'],\n",
       " 'gold_span': [(213, 214), (258, 259), (213, 214), (213, 214), (213, 214)],\n",
       " 'model_answers': 'Tracy McConnell',\n",
       " 'model_span': (2457, 2458),\n",
       " 'question_text': 'who turned out to be the mother on how i met your mother',\n",
       " 'url': 'https://en.wikipedia.org//w/index.php?title=The_Mother_(How_I_Met_Your_Mother)&amp;oldid=802354471'}"
      ]
     },
     "execution_count": 238,
     "metadata": {},
     "output_type": "execute_result"
    }
   ],
   "source": [
    "# True but much later.\n",
    "error_analysis = get_answer_and_question(errors[43])\n",
    "error_analysis"
   ]
  },
  {
   "cell_type": "code",
   "execution_count": 239,
   "metadata": {},
   "outputs": [
    {
     "data": {
      "text/plain": [
       "{'gold_answers': ['Jean - Paul Valley ( a.k.a. Azrael )',\n",
       "  'an apprentice named Jean - Paul Valley ( a.k.a. Azrael )',\n",
       "  'an apprentice named Jean - Paul Valley ( a.k.a. Azrael )',\n",
       "  'Jean - Paul Valley ( a.k.a. Azrael )'],\n",
       " 'gold_span': [(527, 534), (524, 534), (524, 534), (527, 534)],\n",
       " 'model_answers': 'Bruce Wayne',\n",
       " 'model_span': (493, 494),\n",
       " 'question_text': 'who took over for batman when his back was broken',\n",
       " 'url': 'https://en.wikipedia.org//w/index.php?title=Batman:_Knightfall&amp;oldid=836456522'}"
      ]
     },
     "execution_count": 239,
     "metadata": {},
     "output_type": "execute_result"
    }
   ],
   "source": [
    "# True but much later.\n",
    "error_analysis = get_answer_and_question(errors[44])\n",
    "error_analysis"
   ]
  },
  {
   "cell_type": "code",
   "execution_count": null,
   "metadata": {},
   "outputs": [],
   "source": []
  }
 ],
 "metadata": {
  "kernelspec": {
   "display_name": "py3tf",
   "language": "python",
   "name": "py3tf"
  },
  "language_info": {
   "codemirror_mode": {
    "name": "ipython",
    "version": 3
   },
   "file_extension": ".py",
   "mimetype": "text/x-python",
   "name": "python",
   "nbconvert_exporter": "python",
   "pygments_lexer": "ipython3",
   "version": "3.6.2"
  }
 },
 "nbformat": 4,
 "nbformat_minor": 2
}
